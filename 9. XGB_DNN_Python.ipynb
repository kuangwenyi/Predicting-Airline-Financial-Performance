{
 "cells": [
  {
   "cell_type": "markdown",
   "id": "3d02fbcc-1499-49c9-b3f4-745f60944127",
   "metadata": {},
   "source": [
    "# Part 1: All Samples "
   ]
  },
  {
   "cell_type": "markdown",
   "id": "ec5c829a-d466-4cb5-b521-cd7fe52faf81",
   "metadata": {
    "jp-MarkdownHeadingCollapsed": true
   },
   "source": [
    "## 1. Deep Neural Network\n",
    "###### All rows with missing values or 0s are removed. 891 observations"
   ]
  },
  {
   "cell_type": "code",
   "execution_count": null,
   "id": "1f335a2c-12c0-4b3c-8155-d56356640ab1",
   "metadata": {},
   "outputs": [],
   "source": [
    "# Import necessary modules\n",
    "import pandas as pd\n",
    "import numpy as np\n",
    "from tensorflow import keras\n",
    "from tensorflow.keras.layers import Dense, Dropout, BatchNormalization, LSTM, RepeatVector, SimpleRNN\n",
    "from tensorflow.keras.models import Sequential\n",
    "from tensorflow.keras.utils import to_categorical\n",
    "from tensorflow.keras.callbacks import EarlyStopping\n",
    "import MIDASpy as md\n",
    "\n",
    "import xgboost as xgb\n",
    "from sklearn.preprocessing import OrdinalEncoder, StandardScaler\n",
    "from sklearn.metrics import mean_squared_error, r2_score\n",
    "\n",
    "import matplotlib.pyplot as plt\n",
    "\n",
    "plt.rcParams['font.family'] = 'serif' \n",
    "# you can change the font to other fonts found from your Word document.\n",
    "plt.rcParams['font.size'] = 10 "
   ]
  },
  {
   "cell_type": "code",
   "execution_count": null,
   "id": "69dff906-de78-496c-806e-f4a08ded0feb",
   "metadata": {},
   "outputs": [],
   "source": [
    "df_raw = pd.read_csv('/home/Data_Ubuntu/E1_891.csv')"
   ]
  },
  {
   "cell_type": "code",
   "execution_count": null,
   "id": "68748b6d-5362-4244-b5ac-2d62166423a9",
   "metadata": {},
   "outputs": [],
   "source": [
    "df_raw.shape"
   ]
  },
  {
   "cell_type": "code",
   "execution_count": null,
   "id": "22f18448-ae79-4801-90d1-ea545c375fe4",
   "metadata": {},
   "outputs": [],
   "source": [
    "cat_vars = ['carriercode', 'year', 'quarter']"
   ]
  },
  {
   "cell_type": "code",
   "execution_count": null,
   "id": "dc41f5b5-1c57-4a88-981c-72584811644f",
   "metadata": {},
   "outputs": [],
   "source": [
    "cont_vars = ['OPOR', 'lyield', 'lLFP', 'lfleetutil', 'lfueleff', 'lpOntime',\n",
    "       'lmisbagg', 'ltotaldelay', 'lcomplaint', 'lhetero', 'lavglandfee',\n",
    "       'lsparsity', 'lMKTshare', 'ltdomt_cost', 'lrevpaxenplaned', 'lempfte', 'occasion']"
   ]
  },
  {
   "cell_type": "code",
   "execution_count": null,
   "id": "ab9704b0-b290-439c-a268-533d89e95b51",
   "metadata": {},
   "outputs": [],
   "source": [
    "var_list = [df_raw[cont_vars]]"
   ]
  },
  {
   "cell_type": "code",
   "execution_count": null,
   "id": "15e1625a-1184-47ff-8465-984c337028b2",
   "metadata": {},
   "outputs": [],
   "source": [
    "data_cat, cat_var_list = md.cat_conv(df_raw[cat_vars])"
   ]
  },
  {
   "cell_type": "code",
   "execution_count": null,
   "id": "e54e2bb0-dc20-4ba5-9e12-56f41a782c9b",
   "metadata": {},
   "outputs": [],
   "source": [
    "var_list.append(data_cat)"
   ]
  },
  {
   "cell_type": "code",
   "execution_count": null,
   "id": "426ecbf8-f61b-4b24-bf55-79d46be8d810",
   "metadata": {},
   "outputs": [],
   "source": [
    "df = pd.concat(var_list, axis=1)"
   ]
  },
  {
   "cell_type": "code",
   "execution_count": null,
   "id": "4804c1e2-d8bb-48dc-81eb-a3ed164c9688",
   "metadata": {},
   "outputs": [],
   "source": [
    "df.head()"
   ]
  },
  {
   "cell_type": "code",
   "execution_count": null,
   "id": "f644c582-58e3-40d2-92f7-2a063239aad1",
   "metadata": {},
   "outputs": [],
   "source": [
    "target = np.array(df[['OPOR']])"
   ]
  },
  {
   "cell_type": "code",
   "execution_count": null,
   "id": "18da99a9-72ed-40a1-bf02-c5bf98a33e98",
   "metadata": {},
   "outputs": [],
   "source": [
    "predictors = np.array(df.drop('OPOR',axis=1))"
   ]
  },
  {
   "cell_type": "code",
   "execution_count": null,
   "id": "d1933123-3393-4396-84ff-c4b1c2bfefe0",
   "metadata": {},
   "outputs": [],
   "source": [
    "keras.utils.set_random_seed(1234) # 0.0120 loss for this random seed\n",
    "# Save the number of columns in predictors: n_cols\n",
    "n_cols = predictors.shape[1]\n",
    "\n",
    "# Specify the model_dnn_test\n",
    "layer = Dense(11, )\n",
    "\n",
    "model_dnn = Sequential()\n",
    "model_dnn.add(Dense(500, activation='elu', input_shape = (n_cols,), kernel_initializer=keras.initializers.HeNormal()))\n",
    "model_dnn.add(BatchNormalization())\n",
    "\n",
    "model_dnn.add(Dense(450, activation='elu', kernel_initializer=keras.initializers.HeNormal()))\n",
    "model_dnn.add(BatchNormalization())\n",
    "\n",
    "model_dnn.add(Dense(400, activation='elu', kernel_initializer=keras.initializers.HeNormal()))\n",
    "model_dnn.add(BatchNormalization())\n",
    "\n",
    "model_dnn.add(Dense(600, activation='elu', kernel_initializer=keras.initializers.HeNormal()))\n",
    "model_dnn.add(BatchNormalization())\n",
    "\n",
    "model_dnn.add(Dense(350, activation='elu', kernel_initializer=keras.initializers.HeNormal()))\n",
    "model_dnn.add(BatchNormalization())\n",
    "\n",
    "model_dnn.add(Dense(300, activation='elu', kernel_initializer=keras.initializers.HeNormal()))\n",
    "model_dnn.add(BatchNormalization())\n",
    "\n",
    "model_dnn.add(Dense(250, activation='elu', kernel_initializer=keras.initializers.HeNormal()))\n",
    "model_dnn.add(BatchNormalization())\n",
    "\n",
    "model_dnn.add(Dense(200, activation='elu', kernel_initializer=keras.initializers.HeNormal()))\n",
    "model_dnn.add(BatchNormalization())\n",
    "\n",
    "model_dnn.add(Dense(100, activation='elu', kernel_initializer=keras.initializers.HeNormal()))\n",
    "model_dnn.add(BatchNormalization())\n",
    "\n",
    "model_dnn.add(Dense(50, activation='elu',  kernel_initializer=keras.initializers.HeNormal()))\n",
    "model_dnn.add(BatchNormalization())\n",
    "model_dnn.add(Dropout(0.2)) # drop out\n",
    "\n",
    "model_dnn.add(Dense(1))\n",
    "\n",
    "# Compile the model_dnn_test\n",
    "model_dnn.compile(optimizer='adam', loss='mean_squared_error', metrics=['accuracy'])\n",
    "\n",
    "# Define early_stopping_monitor\n",
    "early_stopping_monitor = EarlyStopping(patience = 2)\n",
    "\n",
    "# Fit the model_dnn_test\n",
    "model_dnn.fit(predictors, target, epochs = 100, validation_split = 0.1)\n",
    "          #callbacks = [early_stopping_monitor])\n"
   ]
  },
  {
   "cell_type": "code",
   "execution_count": null,
   "id": "e7267e62-2fd8-4a52-aa4b-961c741d2a8c",
   "metadata": {},
   "outputs": [],
   "source": [
    "pred_opor_dnn = pd.DataFrame(model_dnn.predict(predictors))\n",
    "pred_opor_dnn.columns = ['OPOR_pred_dnn']"
   ]
  },
  {
   "cell_type": "code",
   "execution_count": null,
   "id": "e94f1097-6545-47be-aeac-e51ef61c4fa5",
   "metadata": {},
   "outputs": [],
   "source": [
    "mse = mean_squared_error(target, model_dnn.predict(predictors))\n",
    "r2 = r2_score(target, model_dnn.predict(predictors))\n",
    "\n",
    "print(\"Mean Squared Error DNN:\", mse)\n",
    "print(\"R-squared Score DNN:\", r2)"
   ]
  },
  {
   "cell_type": "code",
   "execution_count": null,
   "id": "3152ca51-78a1-48f8-bca2-b64f4a39540d",
   "metadata": {},
   "outputs": [],
   "source": [
    "df_dnn = pd.concat([df, pred_opor_dnn, df_raw['carriercode']], axis =1)\n",
    "# df_dnn.to_csv('df_cnn_6.9.csv')"
   ]
  },
  {
   "cell_type": "code",
   "execution_count": null,
   "id": "6af4705c-d4dc-4d58-b280-757158638e41",
   "metadata": {},
   "outputs": [],
   "source": [
    "plt.plot(df_dnn['OPOR'], label= \"Actual OPOR\", color = 'black')\n",
    "plt.plot(df_dnn['OPOR_pred_dnn'], label= \"DNN Predicted OPOR\", color = 'red')\n",
    "plt.xlabel('No. of Observations')\n",
    "plt.ylabel('OPOR')\n",
    "plt.xticks([])\n",
    "\n",
    "plt.title('All Carriers All Observations 2004Q1 to 2019Q4')\n",
    "plt.legend()"
   ]
  },
  {
   "cell_type": "markdown",
   "id": "31647753-d531-40fe-90b9-8aa1d9d62b4d",
   "metadata": {},
   "source": [
    "## 2. XGB"
   ]
  },
  {
   "cell_type": "code",
   "execution_count": null,
   "id": "b36da1a5-308d-4cc4-8e3a-0cbda352f92b",
   "metadata": {},
   "outputs": [],
   "source": [
    "#Creating an XGBoost regressor\n",
    "model_xgb = xgb.XGBRegressor()\n",
    "\n",
    "#Training the model on the training data\n",
    "model_xgb.fit(predictors, target)\n",
    "\n",
    "#Making predictions on the test set\n",
    "pred_xgb = model_xgb.predict(predictors)\n",
    "\n",
    "# Calculate the mean squared error and R-squared score\n",
    "mse_xgb = mean_squared_error(target, pred_xgb)\n",
    "r2_xgb = r2_score(target, pred_xgb)\n",
    "\n",
    "print(\"Mean Squared Error XGB:\", round(mse_xgb, 10))\n",
    "print(\"R-squared Score XGB:\", r2_xgb)"
   ]
  },
  {
   "cell_type": "code",
   "execution_count": null,
   "id": "adf614e2-5781-4946-847e-3183ac453107",
   "metadata": {},
   "outputs": [],
   "source": [
    "pred_xgb = pd.DataFrame(model_xgb.predict(predictors))\n",
    "pred_xgb.columns = ['OPOR_pred_xgb']"
   ]
  },
  {
   "cell_type": "code",
   "execution_count": null,
   "id": "ad22fc44-a1e0-48ae-bd8f-1e8c2d9f55a2",
   "metadata": {},
   "outputs": [],
   "source": [
    "df_xgb = pd.concat([df_dnn, pred_xgb], axis =1)\n"
   ]
  },
  {
   "cell_type": "code",
   "execution_count": null,
   "id": "ba4a78f8-3fc8-440d-b26b-05092e14cc09",
   "metadata": {},
   "outputs": [],
   "source": [
    "df_xgb.to_csv('df_xgb_all.csv')"
   ]
  },
  {
   "cell_type": "code",
   "execution_count": null,
   "id": "20693c66-87a4-4baa-a914-b86e8c603b56",
   "metadata": {
    "scrolled": true
   },
   "outputs": [],
   "source": [
    "df_xgb['dnn_dif2'] = (df_xgb.OPOR - df_xgb.OPOR_pred_dnn)*(df_xgb.OPOR - df_xgb.OPOR_pred_dnn)\n",
    "df_xgb['xgb_dif2'] = (df_xgb.OPOR - df_xgb.OPOR_pred_xgb)*(df_xgb.OPOR - df_xgb.OPOR_pred_xgb)\n",
    "\n",
    "# find the mean of dnn_dif2 and xgb_dif2 group by carriercode\n",
    "df_xgb.groupby('carriercode')['dnn_dif2'].mean()\n",
    "df_xgb.groupby('carriercode')['xgb_dif2'].mean()\n"
   ]
  },
  {
   "cell_type": "code",
   "execution_count": null,
   "id": "6d3a0323-7d2f-4ef9-ab15-3164cb6b0cba",
   "metadata": {},
   "outputs": [],
   "source": [
    "df_xgb.shape"
   ]
  },
  {
   "cell_type": "markdown",
   "id": "b6a38181-e819-400e-b94e-b4563dc1ef22",
   "metadata": {},
   "source": [
    "### Read in Statafile"
   ]
  },
  {
   "cell_type": "code",
   "execution_count": null,
   "id": "8f7af430-42ab-47af-8930-2d08f39a32ea",
   "metadata": {},
   "outputs": [],
   "source": [
    "# read in Statafile\n",
    "stata_all = pd.read_csv('/home/Data_Ubuntu/StataOut_all.csv')"
   ]
  },
  {
   "cell_type": "code",
   "execution_count": null,
   "id": "999eca72-7d52-49eb-9034-c9698879075a",
   "metadata": {},
   "outputs": [],
   "source": [
    "stata_all.columns"
   ]
  },
  {
   "cell_type": "code",
   "execution_count": null,
   "id": "b58a8757-4818-4a29-8026-4222eb15f1f1",
   "metadata": {},
   "outputs": [],
   "source": [
    "plt.plot(df_xgb['OPOR'], label= \"Actual OPOR\", color = 'slategrey', linewidth= 6,alpha = 0.7)\n",
    "plt.plot(df_xgb['OPOR_pred_dnn'], label= \"DNN Predicted OPOR\", color = 'blue', linestyle ='dotted')\n",
    "plt.plot(df_xgb['OPOR_pred_xgb'], label= \"XGB Predicted OPOR\", color = 'green')\n",
    "plt.plot(stata_all['pout_fe_all'], label= \"Fixed Effects Predicted OPOR\", color = 'Orange', linestyle ='dashed')\n",
    "plt.plot(stata_all['pout_xtmixed_all'], label= \"Mixed Effects Predicted OPOR\", color = 'Purple', linestyle ='dashdot')\n",
    "\n",
    "plt.xlabel('No. of Observations')\n",
    "plt.ylabel('OPOR')\n",
    "plt.xticks([])\n",
    "\n",
    "plt.title('All Carriers All Observations 2004Q1 to 2019Q4')\n",
    "plt.legend()\n",
    "plt.legend(loc=4, prop={'size': 8})\n",
    "\n",
    "plt.savefig('AllCarrierCombined.pdf')"
   ]
  },
  {
   "cell_type": "code",
   "execution_count": null,
   "id": "b7d744d6-0983-45f7-ae14-57f175bb786f",
   "metadata": {
    "scrolled": true
   },
   "outputs": [],
   "source": [
    "xgb_american = df_xgb[df_xgb['carriercode'] == 6]\n",
    "stata_american = stata_all[stata_all['carriercode'] == 6]\n",
    "\n",
    "xgb_delta = df_xgb[df_xgb['carriercode'] == 11]\n",
    "stata_delta = stata_all[stata_all['carriercode'] == 11]\n",
    "\n",
    "xgb_sw = df_xgb[df_xgb['carriercode'] == 24]\n",
    "stata_sw = stata_all[stata_all['carriercode'] == 24]\n",
    "\n",
    "xgb_united = df_xgb[df_xgb['carriercode'] == 26]\n",
    "stata_united = stata_all[stata_all['carriercode'] == 26]\n",
    "\n",
    "plt.figure(figsize = (12,8))\n",
    "\n",
    "## American \n",
    "plt.subplot(2,2,1)\n",
    "plt.plot(xgb_american['OPOR'], label= \"Actual OPOR\", color = 'slategrey', linewidth= 6,alpha = 0.7)\n",
    "plt.plot(xgb_american['OPOR_pred_dnn'], label= \"DNN Predicted OPOR\", color = 'blue', linestyle ='dotted')\n",
    "plt.plot(xgb_american['OPOR_pred_xgb'], label= \"XGB Predicted OPOR\", color = 'green')\n",
    "plt.plot(stata_american['pout_fe_all'], label= \"Fixed Effects Predicted OPOR\", color = 'darkorange', linestyle ='dashed')\n",
    "plt.plot(stata_american['pout_xtmixed_all'], label= \"Mixed Effects Predicted OPOR\", color = 'purple', linestyle = 'dashdot')\n",
    "\n",
    "plt.xlabel('Quarters from 2004Q1 to 2019Q4')\n",
    "plt.ylabel('OPOR')\n",
    "plt.title('American Airline')\n",
    "plt.xticks([])\n",
    "\n",
    "plt.legend()\n",
    "plt.legend(loc=4, prop={'size': 6})\n",
    "\n",
    "\n",
    "## Delta\n",
    "plt.subplot(2,2,2)\n",
    "plt.plot(xgb_delta['OPOR'], label= \"Actual OPOR\", color = 'slategrey', linewidth= 6,alpha = 0.7)\n",
    "plt.plot(xgb_delta['OPOR_pred_dnn'], label= \"DNN Predicted OPOR\", color = 'blue', linestyle ='dotted')\n",
    "plt.plot(xgb_delta['OPOR_pred_xgb'], label= \"XGB Predicted OPOR\", color = 'green')\n",
    "plt.plot(stata_delta['pout_fe_all'], label= \"Fixed Effects Predicted OPOR\", color = 'darkorange', linestyle ='dashed')\n",
    "plt.plot(stata_delta['pout_xtmixed_all'], label= \"Mixed Effects Predicted OPOR\", color = 'purple', linestyle = 'dashdot')\n",
    "\n",
    "plt.xlabel('Quarters from 2004Q1 to 2019Q4')\n",
    "plt.ylabel('OPOR')\n",
    "plt.title('Delta Airline')\n",
    "plt.xticks([])\n",
    "\n",
    "plt.legend()\n",
    "plt.legend(loc=4, prop={'size': 6})\n",
    "\n",
    "## Southwest\n",
    "plt.subplot(2,2,3)\n",
    "plt.plot(xgb_sw['OPOR'], label= \"Actual OPOR\", color = 'slategrey', linewidth= 6,alpha = 0.7)\n",
    "plt.plot(xgb_sw['OPOR_pred_dnn'], label= \"DNN Predicted OPOR\", color = 'blue', linestyle ='dotted')\n",
    "plt.plot(xgb_sw['OPOR_pred_xgb'], label= \"XGB Predicted OPOR\", color = 'green')\n",
    "plt.plot(stata_sw['pout_fe_all'], label= \"Fixed Effects Predicted OPOR\", color = 'darkorange', linestyle ='dashed')\n",
    "plt.plot(stata_sw['pout_xtmixed_all'], label= \"Mixed Effects Predicted OPOR\", color = 'purple', linestyle = 'dashdot')\n",
    "\n",
    "plt.xlabel('Quarters from 2004Q1 to 2019Q4')\n",
    "plt.ylabel('OPOR')\n",
    "plt.title('SouthWest Airline')\n",
    "plt.xticks([])\n",
    "\n",
    "plt.legend()\n",
    "plt.legend(loc=4, prop={'size': 6})\n",
    "\n",
    "## United\n",
    "plt.subplot(2,2,4)\n",
    "plt.plot(xgb_united['OPOR'], label= \"Actual OPOR\", color = 'slategrey', linewidth= 6,alpha = 0.7)\n",
    "plt.plot(xgb_united['OPOR_pred_dnn'], label= \"DNN Predicted OPOR\", color = 'blue', linestyle ='dotted')\n",
    "plt.plot(xgb_united['OPOR_pred_xgb'], label= \"XGB Predicted OPOR\", color = 'green')\n",
    "plt.plot(stata_united['pout_fe_all'], label= \"Fixed Effects Predicted OPOR\", color = 'darkorange', linestyle ='dashed')\n",
    "plt.plot(stata_united['pout_xtmixed_all'], label= \"Mixed Effects Predicted OPOR\", color = 'purple', linestyle = 'dashdot')\n",
    "\n",
    "plt.xlabel('Quarters from 2004Q1 to 2019Q4')\n",
    "plt.ylabel('OPOR')\n",
    "plt.title('United Airline')\n",
    "plt.xticks([])\n",
    "\n",
    "plt.legend()\n",
    "plt.legend(loc=4, prop={'size': 6})\n",
    "\n",
    "plt.savefig('Big4All.pdf')"
   ]
  },
  {
   "cell_type": "markdown",
   "id": "b777ecf0-b549-4e46-b740-2fd4c975014c",
   "metadata": {
    "jp-MarkdownHeadingCollapsed": true
   },
   "source": [
    "### XGB Feature Importance"
   ]
  },
  {
   "cell_type": "code",
   "execution_count": null,
   "id": "ebba5ffb-608c-419e-8d17-4569d9b0ebee",
   "metadata": {},
   "outputs": [],
   "source": [
    "from sklearn.inspection import permutation_importance"
   ]
  },
  {
   "cell_type": "code",
   "execution_count": null,
   "id": "a8543b57-0bf4-4a1d-bc72-61cfdd0d122f",
   "metadata": {},
   "outputs": [],
   "source": [
    "#Creating an XGBoost regressor\n",
    "import xgboost as xgb\n",
    "model_xgb = xgb.XGBRegressor()\n",
    "#Training the model on the training data\n",
    "model_xgb.fit(predictors, target)\n",
    "permutation_importance(model_xgb.fit, random_state=1)\n"
   ]
  },
  {
   "cell_type": "code",
   "execution_count": null,
   "id": "5efe3923-1226-4166-8f8b-97fa4ed702ae",
   "metadata": {},
   "outputs": [],
   "source": [
    "perm_xgb = PermutationImportance(xgb_best_model, random_state=1).fit(train_x, train_y)\n",
    "\n",
    "df_results = pd.DataFrame(data=perm_train_xgb.results_, columns= feature_for_plot)\n",
    "feat_imps = df_results.mean().sort_values(ascending=False)\n",
    "df_results = df_results[feat_imps.index]\n",
    "fig = px.box(df_results.melt(), x='variable', y='value', orientation='v', width=700, height=400, \n",
    "            title = 'Permutation Feature Importance - Train Data -XGB')\n",
    "fig.add_trace(go.Scatter(x=feat_imps.index, y=feat_imps.values, mode='markers', marker=dict(color='red'), name = 'Mean'))\n",
    "fig.update_layout(\n",
    "    font_family=\"Helvetica\",\n",
    "    font_color=\"black\",\n",
    "    title_font_family=\"Helvetica\",\n",
    "    title_font_color=\"black\",\n",
    "    legend_title_font_color=\"green\",\n",
    "    plot_bgcolor='white'\n",
    "    )\n",
    "\n",
    "\n",
    "fig.update_xaxes(showline=True, linewidth=1, linecolor='black',title_font_family=\"Helvetica\")\n",
    "fig.update_yaxes(showline=True, linewidth=1, linecolor='black')\n",
    "fig.update_layout(legend=dict(\n",
    "    yanchor=\"top\",\n",
    "    y=0.9,\n",
    "    xanchor=\"left\",\n",
    "    x=0.85\n",
    "))\n",
    "\n",
    "# plotly.offline.plot(fig, filename='fi_test.html')\n",
    "\n",
    "fig"
   ]
  },
  {
   "cell_type": "code",
   "execution_count": null,
   "id": "8eef3cdd-5345-4599-a6c2-1c2baf4f7f0e",
   "metadata": {},
   "outputs": [],
   "source": [
    "df.columns"
   ]
  },
  {
   "cell_type": "markdown",
   "id": "118fb479-0900-4d1b-813b-1e9564364658",
   "metadata": {
    "jp-MarkdownHeadingCollapsed": true
   },
   "source": [
    "### XGB Partical Dependence Plot"
   ]
  },
  {
   "cell_type": "code",
   "execution_count": null,
   "id": "fcd5d497-919f-4712-a3d4-d12723eaf564",
   "metadata": {},
   "outputs": [],
   "source": [
    "features = ['lyield', 'lLFP', 'lfleetutil', 'lfueleff', 'lpOntime',\n",
    "       'lmisbagg', 'ltotaldelay', 'lcomplaint', 'lhetero', 'lavglandfee',\n",
    "       'lsparsity', 'lMKTshare', 'ltdomt_cost', 'lrevpaxenplaned', 'lempfte',\n",
    "       'occasion', 'carriercode_1', 'carriercode_2', 'carriercode_3',\n",
    "       'carriercode_5', 'carriercode_6', 'carriercode_7', 'carriercode_8',\n",
    "       'carriercode_9', 'carriercode_10', 'carriercode_11', 'carriercode_13',\n",
    "       'carriercode_14', 'carriercode_15', 'carriercode_16', 'carriercode_17',\n",
    "       'carriercode_18', 'carriercode_19', 'carriercode_20', 'carriercode_23',\n",
    "       'carriercode_24', 'carriercode_25', 'carriercode_26', 'carriercode_27',\n",
    "       'carriercode_28', 'year_2004', 'year_2005', 'year_2006', 'year_2007',\n",
    "       'year_2008', 'year_2009', 'year_2010', 'year_2011', 'year_2012',\n",
    "       'year_2013', 'year_2014', 'year_2015', 'year_2016', 'year_2017',\n",
    "       'year_2018', 'year_2019', 'quarter_1', 'quarter_2', 'quarter_3',\n",
    "       'quarter_4']\n"
   ]
  },
  {
   "cell_type": "code",
   "execution_count": null,
   "id": "ce6ca217-71de-4d36-96d4-42a4e3c94da8",
   "metadata": {},
   "outputs": [],
   "source": [
    "predictors_forxgb = df.drop('OPOR',axis=1)"
   ]
  },
  {
   "cell_type": "code",
   "execution_count": null,
   "id": "6af43b1c-f8b3-4009-981a-2e274c79767d",
   "metadata": {},
   "outputs": [],
   "source": [
    "predictors_forxgb"
   ]
  },
  {
   "cell_type": "code",
   "execution_count": null,
   "id": "ec09beeb-5267-4738-9250-4a6e4f4303b4",
   "metadata": {},
   "outputs": [],
   "source": [
    "from sklearn.inspection import PartialDependenceDisplay\n",
    "model_xgb1 = xgb.XGBRegressor()\n",
    "model_xgbfit1 = model_xgb.fit(predictors, target)\n"
   ]
  },
  {
   "cell_type": "code",
   "execution_count": null,
   "id": "f13e1ff3-c42a-418c-8e8f-c5e306ca8a09",
   "metadata": {},
   "outputs": [],
   "source": [
    "xgb_disp = PartialDependenceDisplay.from_estimator(model_xgbfit1, predictors_forxgb, features, n_jobs=3, grid_resolution=20)"
   ]
  },
  {
   "cell_type": "code",
   "execution_count": null,
   "id": "f7a687bc-adc5-4ec5-ae97-0b40ccccfb65",
   "metadata": {},
   "outputs": [],
   "source": [
    "xgb_disp.plot(line_kw={\"label\": \"XGB\", \"color\": \"#dc5c04\"})\n",
    "\n",
    "xgb_disp.figure_.set_size_inches(12, 40)\n",
    "xgb_disp.axes_[0, 0].legend()\n",
    "xgb_disp.axes_[0, 1].legend()"
   ]
  },
  {
   "cell_type": "markdown",
   "id": "5a5984c3-2b4c-4a63-b2a3-0ee7cefd753d",
   "metadata": {
    "jp-MarkdownHeadingCollapsed": true
   },
   "source": [
    "# Robustness Test on DNN"
   ]
  },
  {
   "cell_type": "markdown",
   "id": "6e78a285-65b7-4b3b-aa59-f3657b5fbecc",
   "metadata": {},
   "source": [
    "#### change to RELU; 0.0203 Loss"
   ]
  },
  {
   "cell_type": "code",
   "execution_count": null,
   "id": "f08114ad-2c0b-4e96-9329-bd93eeb69b46",
   "metadata": {},
   "outputs": [],
   "source": [
    "keras.utils.set_random_seed(1234) \n",
    "# Save the number of columns in predictors: n_cols\n",
    "n_cols = predictors.shape[1]\n",
    "\n",
    "# Specify the model1\n",
    "layer = Dense(11, )\n",
    "\n",
    "model1 = Sequential()\n",
    "model1.add(Dense(1000, activation='relu', input_shape = (n_cols,), kernel_initializer=keras.initializers.HeNormal()))\n",
    "model1.add(BatchNormalization())\n",
    "\n",
    "model1.add(Dense(800, activation='relu', kernel_initializer=keras.initializers.HeNormal()))\n",
    "model1.add(BatchNormalization())\n",
    "\n",
    "model1.add(Dense(700, activation='relu', kernel_initializer=keras.initializers.HeNormal()))\n",
    "model1.add(BatchNormalization())\n",
    "\n",
    "model1.add(Dense(600, activation='relu', kernel_initializer=keras.initializers.HeNormal()))\n",
    "model1.add(BatchNormalization())\n",
    "\n",
    "model1.add(Dense(500, activation='relu', kernel_initializer=keras.initializers.HeNormal()))\n",
    "model1.add(BatchNormalization())\n",
    "\n",
    "model1.add(Dense(400, activation='relu', kernel_initializer=keras.initializers.HeNormal()))\n",
    "model1.add(BatchNormalization())\n",
    "\n",
    "model1.add(Dense(300, activation='relu', kernel_initializer=keras.initializers.HeNormal()))\n",
    "model1.add(BatchNormalization())\n",
    "\n",
    "model1.add(Dense(200, activation='relu', kernel_initializer=keras.initializers.HeNormal()))\n",
    "model1.add(BatchNormalization())\n",
    "\n",
    "model1.add(Dense(100, activation='relu', kernel_initializer=keras.initializers.HeNormal()))\n",
    "model1.add(BatchNormalization())\n",
    "\n",
    "model1.add(Dense(50, activation='relu',  kernel_initializer=keras.initializers.HeNormal()))\n",
    "model1.add(BatchNormalization())\n",
    "model1.add(Dropout(0.15)) # drop out\n",
    "\n",
    "model1.add(Dense(1))\n",
    "\n",
    "# Compile the model1\n",
    "model1.compile(optimizer='adam', loss='mean_squared_error', metrics=['accuracy'])\n",
    "\n",
    "# Define early_stopping_monitor\n",
    "early_stopping_monitor = EarlyStopping(patience = 2)\n",
    "\n",
    "# Fit the model1\n",
    "model1fit = model1.fit(predictors, target, epochs = 50, validation_split = 0.1)\n",
    "          #callbacks = [early_stopping_monitor])\n",
    "\n"
   ]
  },
  {
   "cell_type": "markdown",
   "id": "118bcbde-9c18-4a4e-b2a7-16deef5fb5f6",
   "metadata": {},
   "source": [
    "#### 0.5 drop out: 0.0178"
   ]
  },
  {
   "cell_type": "code",
   "execution_count": null,
   "id": "a62daed6-c37c-4c12-9baf-78731b1aba41",
   "metadata": {},
   "outputs": [],
   "source": [
    "keras.utils.set_random_seed(1234) \n",
    "# Save the number of columns in predictors: n_cols\n",
    "n_cols = predictors.shape[1]\n",
    "\n",
    "# Specify the model2\n",
    "layer = Dense(11, )\n",
    "\n",
    "model2 = Sequential()\n",
    "model2.add(Dense(1000, activation='elu', input_shape = (n_cols,), kernel_initializer=keras.initializers.HeNormal()))\n",
    "model2.add(BatchNormalization())\n",
    "\n",
    "model2.add(Dense(800, activation='elu', kernel_initializer=keras.initializers.HeNormal()))\n",
    "model2.add(BatchNormalization())\n",
    "\n",
    "model2.add(Dense(700, activation='elu', kernel_initializer=keras.initializers.HeNormal()))\n",
    "model2.add(BatchNormalization())\n",
    "\n",
    "model2.add(Dense(600, activation='elu', kernel_initializer=keras.initializers.HeNormal()))\n",
    "model2.add(BatchNormalization())\n",
    "\n",
    "model2.add(Dense(500, activation='elu', kernel_initializer=keras.initializers.HeNormal()))\n",
    "model2.add(BatchNormalization())\n",
    "\n",
    "model2.add(Dense(400, activation='elu', kernel_initializer=keras.initializers.HeNormal()))\n",
    "model2.add(BatchNormalization())\n",
    "\n",
    "model2.add(Dense(300, activation='elu', kernel_initializer=keras.initializers.HeNormal()))\n",
    "model2.add(BatchNormalization())\n",
    "\n",
    "model2.add(Dense(200, activation='elu', kernel_initializer=keras.initializers.HeNormal()))\n",
    "model2.add(BatchNormalization())\n",
    "\n",
    "model2.add(Dense(100, activation='elu', kernel_initializer=keras.initializers.HeNormal()))\n",
    "model2.add(BatchNormalization())\n",
    "\n",
    "model2.add(Dense(50, activation='relu',  kernel_initializer=keras.initializers.HeNormal()))\n",
    "model2.add(BatchNormalization())\n",
    "model2.add(Dropout(0.5)) # drop out\n",
    "\n",
    "model2.add(Dense(1))\n",
    "\n",
    "# Compile the model2\n",
    "model2.compile(optimizer='adam', loss='mean_squared_error', metrics=['accuracy'])\n",
    "\n",
    "# Define early_stopping_monitor\n",
    "early_stopping_monitor = EarlyStopping(patience = 2)\n",
    "\n",
    "# Fit the model2\n",
    "model2fit = model2.fit(predictors, target, epochs = 50, validation_split = 0.1)\n",
    "          #callbacks = [early_stopping_monitor])\n"
   ]
  },
  {
   "cell_type": "markdown",
   "id": "ebd971fd-b1a2-4cfc-9356-28f13556fccf",
   "metadata": {},
   "source": [
    "#### 15 layer 0.5 drop out: 0.0262 loss"
   ]
  },
  {
   "cell_type": "code",
   "execution_count": null,
   "id": "c516745e-44ff-4bed-bad1-505238d7ee7a",
   "metadata": {},
   "outputs": [],
   "source": [
    "keras.utils.set_random_seed(1234) \n",
    "# Save the number of columns in predictors: n_cols\n",
    "n_cols = predictors.shape[1]\n",
    "\n",
    "# Specify the model3\n",
    "layer = Dense(16, )\n",
    "\n",
    "model3 = Sequential()\n",
    "model3.add(Dense(1000, activation='relu', input_shape = (n_cols,), kernel_initializer=keras.initializers.HeNormal()))\n",
    "model3.add(BatchNormalization())\n",
    "\n",
    "model3.add(Dense(900, activation='relu', kernel_initializer=keras.initializers.HeNormal()))\n",
    "model3.add(BatchNormalization())\n",
    "\n",
    "model3.add(Dense(800, activation='relu', kernel_initializer=keras.initializers.HeNormal()))\n",
    "model3.add(BatchNormalization())\n",
    "\n",
    "model3.add(Dense(700, activation='relu', kernel_initializer=keras.initializers.HeNormal()))\n",
    "model3.add(BatchNormalization())\n",
    "\n",
    "model3.add(Dense(600, activation='relu', kernel_initializer=keras.initializers.HeNormal()))\n",
    "model3.add(BatchNormalization())\n",
    "\n",
    "model3.add(Dense(500, activation='relu', kernel_initializer=keras.initializers.HeNormal()))\n",
    "model3.add(BatchNormalization())\n",
    "\n",
    "model3.add(Dense(400, activation='relu', kernel_initializer=keras.initializers.HeNormal()))\n",
    "model3.add(BatchNormalization())\n",
    "\n",
    "model3.add(Dense(300, activation='relu', kernel_initializer=keras.initializers.HeNormal()))\n",
    "model3.add(BatchNormalization())\n",
    "\n",
    "model3.add(Dense(200, activation='relu', kernel_initializer=keras.initializers.HeNormal()))\n",
    "model3.add(BatchNormalization())\n",
    "\n",
    "model3.add(Dense(150, activation='relu', kernel_initializer=keras.initializers.HeNormal()))\n",
    "model3.add(BatchNormalization())\n",
    "\n",
    "model3.add(Dense(100, activation='relu', kernel_initializer=keras.initializers.HeNormal()))\n",
    "model3.add(BatchNormalization())\n",
    "\n",
    "model3.add(Dense(50, activation='relu', kernel_initializer=keras.initializers.HeNormal()))\n",
    "model3.add(BatchNormalization())\n",
    "\n",
    "model3.add(Dense(40, activation='relu', kernel_initializer=keras.initializers.HeNormal()))\n",
    "model3.add(BatchNormalization())\n",
    "\n",
    "model3.add(Dense(30, activation='relu', kernel_initializer=keras.initializers.HeNormal()))\n",
    "model3.add(BatchNormalization())\n",
    "\n",
    "model3.add(Dense(20, activation='relu',  kernel_initializer=keras.initializers.HeNormal()))\n",
    "model3.add(BatchNormalization())\n",
    "model3.add(Dropout(0.5)) # drop out\n",
    "\n",
    "model3.add(Dense(1))\n",
    "\n",
    "# Compile the model3\n",
    "model3.compile(optimizer='adam', loss='mean_squared_error', metrics=['accuracy'])\n",
    "\n",
    "# Define early_stopping_monitor\n",
    "early_stopping_monitor = EarlyStopping(patience = 2)\n",
    "\n",
    "# Fit the model3\n",
    "model3fit = model3.fit(predictors, target, epochs = 50, validation_split = 0.1)\n",
    "          #callbacks = [early_stopping_monitor])\n"
   ]
  },
  {
   "cell_type": "markdown",
   "id": "6993c591-7bcd-46a5-a71a-0e8400e85cf8",
   "metadata": {},
   "source": [
    "#### 11 layers, 0.5 drop out, validation 0.2: loss 0.0219"
   ]
  },
  {
   "cell_type": "code",
   "execution_count": null,
   "id": "49895ae7-9738-44da-846e-db8c006a9723",
   "metadata": {},
   "outputs": [],
   "source": [
    "keras.utils.set_random_seed(1234) \n",
    "# Save the number of columns in predictors: n_cols\n",
    "n_cols = predictors.shape[1]\n",
    "\n",
    "# Specify the model4\n",
    "layer = Dense(11, )\n",
    "\n",
    "model4 = Sequential()\n",
    "model4.add(Dense(1000, activation='elu', input_shape = (n_cols,), kernel_initializer=keras.initializers.HeNormal()))\n",
    "model4.add(BatchNormalization())\n",
    "\n",
    "model4.add(Dense(800, activation='elu', kernel_initializer=keras.initializers.HeNormal()))\n",
    "model4.add(BatchNormalization())\n",
    "\n",
    "model4.add(Dense(700, activation='elu', kernel_initializer=keras.initializers.HeNormal()))\n",
    "model4.add(BatchNormalization())\n",
    "\n",
    "model4.add(Dense(600, activation='elu', kernel_initializer=keras.initializers.HeNormal()))\n",
    "model4.add(BatchNormalization())\n",
    "\n",
    "model4.add(Dense(500, activation='elu', kernel_initializer=keras.initializers.HeNormal()))\n",
    "model4.add(BatchNormalization())\n",
    "\n",
    "model4.add(Dense(400, activation='elu', kernel_initializer=keras.initializers.HeNormal()))\n",
    "model4.add(BatchNormalization())\n",
    "\n",
    "model4.add(Dense(300, activation='elu', kernel_initializer=keras.initializers.HeNormal()))\n",
    "model4.add(BatchNormalization())\n",
    "\n",
    "model4.add(Dense(200, activation='elu', kernel_initializer=keras.initializers.HeNormal()))\n",
    "model4.add(BatchNormalization())\n",
    "\n",
    "model4.add(Dense(100, activation='elu', kernel_initializer=keras.initializers.HeNormal()))\n",
    "model4.add(BatchNormalization())\n",
    "\n",
    "model4.add(Dense(50, activation='relu',  kernel_initializer=keras.initializers.HeNormal()))\n",
    "model4.add(BatchNormalization())\n",
    "model4.add(Dropout(0.5)) # drop out\n",
    "\n",
    "model4.add(Dense(1))\n",
    "\n",
    "# Compile the model4\n",
    "model4.compile(optimizer='adam', loss='mean_squared_error', metrics=['accuracy'])\n",
    "\n",
    "# Define early_stopping_monitor\n",
    "# early_stopping_monitor = EarlyStopping(patience = 5)\n",
    "\n",
    "# Fit the model4\n",
    "model4fit= model4.fit(predictors, target, epochs = 50, validation_split = 0.2)\n",
    "          # callbacks = [early_stopping_monitor])\n"
   ]
  },
  {
   "cell_type": "markdown",
   "id": "4f0ac45b-49ab-4798-b049-0f088d6b497d",
   "metadata": {},
   "source": [
    "#### Original Model 0.0162 Loss"
   ]
  },
  {
   "cell_type": "code",
   "execution_count": null,
   "id": "a6c8db95-df90-4938-a6d7-02c8e2e5c8a9",
   "metadata": {},
   "outputs": [],
   "source": [
    "keras.utils.set_random_seed(1234) # 0.0162 loss for this random seed\n",
    "\n",
    "# Save the number of columns in predictors: n_cols\n",
    "n_cols = predictors.shape[1]\n",
    "\n",
    "# Specify the model\n",
    "layer = Dense(11, ) # 11 layers\n",
    "\n",
    "model = Sequential()\n",
    "model.add(Dense(1000, activation='elu', input_shape = (n_cols,), kernel_initializer=keras.initializers.HeNormal()))\n",
    "model.add(BatchNormalization())\n",
    "\n",
    "model.add(Dense(800, activation='elu', kernel_initializer=keras.initializers.HeNormal()))\n",
    "model.add(BatchNormalization())\n",
    "\n",
    "model.add(Dense(700, activation='elu', kernel_initializer=keras.initializers.HeNormal()))\n",
    "model.add(BatchNormalization())\n",
    "\n",
    "model.add(Dense(600, activation='elu', kernel_initializer=keras.initializers.HeNormal()))\n",
    "model.add(BatchNormalization())\n",
    "\n",
    "model.add(Dense(500, activation='elu', kernel_initializer=keras.initializers.HeNormal()))\n",
    "model.add(BatchNormalization())\n",
    "\n",
    "model.add(Dense(400, activation='elu', kernel_initializer=keras.initializers.HeNormal()))\n",
    "model.add(BatchNormalization())\n",
    "\n",
    "model.add(Dense(300, activation='elu', kernel_initializer=keras.initializers.HeNormal()))\n",
    "model.add(BatchNormalization())\n",
    "\n",
    "model.add(Dense(200, activation='elu', kernel_initializer=keras.initializers.HeNormal()))\n",
    "model.add(BatchNormalization())\n",
    "\n",
    "model.add(Dense(100, activation='elu', kernel_initializer=keras.initializers.HeNormal()))\n",
    "model.add(BatchNormalization())\n",
    "\n",
    "model.add(Dense(50, activation='elu',  kernel_initializer=keras.initializers.HeNormal()))\n",
    "model.add(BatchNormalization())\n",
    "model.add(Dropout(0.15)) # drop out\n",
    "\n",
    "model.add(Dense(1))\n",
    "\n",
    "# Compile the model\n",
    "model.compile(optimizer='adam', loss='mean_squared_error', metrics=['accuracy'])\n",
    "\n",
    "# Define early_stopping_monitor\n",
    "early_stopping_monitor = EarlyStopping(patience = 2)\n",
    "\n",
    "# Fit the model\n",
    "modelfit = model.fit(predictors, target, epochs = 50, validation_split = 0.1)\n",
    "          #callbacks = [early_stopping_monitor])"
   ]
  },
  {
   "cell_type": "markdown",
   "id": "e3bba7ce-d8de-4282-88ab-b60ceb37bc10",
   "metadata": {},
   "source": [
    "#### Plot"
   ]
  },
  {
   "cell_type": "code",
   "execution_count": null,
   "id": "c25003ed-f43c-49b5-a1e6-42f386807c25",
   "metadata": {},
   "outputs": [],
   "source": [
    "# Create the plot\n",
    "plt.plot(modelfit.history['val_loss'], 'red', label = 'Usded Model')\n",
    "plt.plot(model1fit.history['val_loss'], 'blue', label = 'Model 1')\n",
    "plt.plot(model2fit.history['val_loss'], 'orange', label = 'Model 2')\n",
    "plt.plot(model3fit.history['val_loss'], 'green', label = 'Model 3')\n",
    "plt.plot(model4fit.history['val_loss'], 'purple', label = 'Model 4')\n",
    "\n",
    "plt.xlabel('Epochs')\n",
    "plt.ylabel('Validation score')\n",
    "plt.title('Comparing Differnt DNN Models')\n",
    "plt.legend()\n",
    "\n",
    "plt.savefig('ComparingDNNModel.pdf')"
   ]
  },
  {
   "cell_type": "code",
   "execution_count": null,
   "id": "8965a539-ba55-4a10-b534-449bb2ca2948",
   "metadata": {},
   "outputs": [],
   "source": []
  },
  {
   "cell_type": "markdown",
   "id": "f5887710-ae79-46ce-92d6-e93479b3415f",
   "metadata": {
    "jp-MarkdownHeadingCollapsed": true
   },
   "source": [
    "# PART 2 Monte Carlo Cross Validation 80/20 Split"
   ]
  },
  {
   "cell_type": "code",
   "execution_count": null,
   "id": "0686a919-ff18-42ee-9ac5-c03a2f7193d6",
   "metadata": {},
   "outputs": [],
   "source": [
    "df_raw = pd.read_csv('/home/Data_Ubuntu/E1_891.csv')"
   ]
  },
  {
   "cell_type": "code",
   "execution_count": null,
   "id": "e0d8499f-4ddc-43a7-85ef-edcb1f149357",
   "metadata": {},
   "outputs": [],
   "source": [
    "df_raw = df_raw[df_raw.carriercode != 3]\n",
    "df_raw = df_raw[df_raw.carriercode != 5]\n",
    "df_raw = df_raw[df_raw.carriercode != 7]\n",
    "df_raw = df_raw[df_raw.carriercode != 17]"
   ]
  },
  {
   "cell_type": "code",
   "execution_count": null,
   "id": "5400e3b2-63b5-47d2-9550-f30fcd840727",
   "metadata": {},
   "outputs": [],
   "source": [
    "df_raw.carriercode.unique()\n",
    "df = df_raw"
   ]
  },
  {
   "cell_type": "code",
   "execution_count": null,
   "id": "59be6101-c7fd-40ab-bd9a-4bd85bcf8aae",
   "metadata": {},
   "outputs": [],
   "source": [
    "# convert catigorical var\n",
    "cat_vars = ['carriercode', 'year', 'quarter']\n",
    "# cat_vars = ['quarter']\n",
    "data_cat, cat_var_list = md.cat_conv(df[cat_vars])\n",
    "\n",
    "# define continuous variables\n",
    "cont_vars = ['OPOR', 'lyield', 'lLFP', 'lfleetutil', 'lfueleff', 'lpOntime',\n",
    "       'lmisbagg', 'ltotaldelay', 'lcomplaint', 'lhetero', 'lavglandfee',\n",
    "       'lsparsity', 'lMKTshare', 'ltdomt_cost', 'lrevpaxenplaned', 'lempfte', 'occasion', 'carriercode']\n",
    "\n",
    "# combine data\n",
    "total_list = [df[cont_vars]]\n",
    "total_list.append(data_cat)\n",
    "\n",
    "total_df = pd.concat(total_list, axis=1)"
   ]
  },
  {
   "cell_type": "code",
   "execution_count": null,
   "id": "5cdb0f5e-7628-491f-8a97-c124ca3e65d3",
   "metadata": {},
   "outputs": [],
   "source": [
    "# randomly pick 80% of the data as training, 20% as testing, stratified by carriercode\n",
    "from sklearn.model_selection import train_test_split\n",
    "train_cv, test_cv = train_test_split(total_df, test_size=0.2, stratify=total_df['carriercode'])"
   ]
  },
  {
   "cell_type": "code",
   "execution_count": null,
   "id": "98185699-d4b2-48bb-b464-3dcbefe25113",
   "metadata": {},
   "outputs": [],
   "source": [
    "y_train_cv = np.array(train_cv[['OPOR']])\n",
    "X_train_cv = np.array(train_cv.drop('OPOR',axis=1))\n",
    "\n",
    "y_test_cv = np.array(test_cv[['OPOR']])\n",
    "X_test_cv = np.array(test_cv.drop('OPOR',axis=1))"
   ]
  },
  {
   "cell_type": "code",
   "execution_count": null,
   "id": "ecc6c98b-9944-4221-8398-3b28e5e3e4b6",
   "metadata": {},
   "outputs": [],
   "source": [
    "# print unique carriercode from training and testing and sort them\n",
    "print(sorted(train_cv.carriercode.unique()))\n",
    "print(sorted(test_cv.carriercode.unique()))"
   ]
  },
  {
   "cell_type": "code",
   "execution_count": null,
   "id": "5d7bdf4c-f468-4302-b121-e43102d109ca",
   "metadata": {},
   "outputs": [],
   "source": [
    "y_train_cv.shape"
   ]
  },
  {
   "cell_type": "code",
   "execution_count": null,
   "id": "0d9d0e6c-acd8-4f36-bbe6-8ceed4c9ac6e",
   "metadata": {},
   "outputs": [],
   "source": [
    "train_cv.to_csv('train_cv.csv', index = False)\n",
    "test_cv.to_csv('test_cv.csv', index = False)"
   ]
  },
  {
   "cell_type": "code",
   "execution_count": null,
   "id": "446b45c2-160d-483d-bb5c-a294da17c8cc",
   "metadata": {},
   "outputs": [],
   "source": [
    "train_cv.shape"
   ]
  },
  {
   "cell_type": "code",
   "execution_count": null,
   "id": "331a324b-6741-4375-be23-2b70cb2a4fb1",
   "metadata": {},
   "outputs": [],
   "source": [
    "test_cv.shape"
   ]
  },
  {
   "cell_type": "markdown",
   "id": "6a0c863a-e57a-44b5-814e-9f7d636b4fc6",
   "metadata": {},
   "source": [
    "## DNN"
   ]
  },
  {
   "cell_type": "code",
   "execution_count": null,
   "id": "4c6180fe-6a77-4a66-ac9b-2d0406eb183f",
   "metadata": {},
   "outputs": [],
   "source": [
    "keras.utils.set_random_seed(1234) # 0.0053 loss for this random seed\n",
    "# Save the number of columns in predictors: n_cols\n",
    "n_cols = X_train_cv.shape[1]\n",
    "\n",
    "# Specify the model_dnn_test\n",
    "layer = Dense(11, )\n",
    "\n",
    "model_dnn_cv = Sequential()\n",
    "\n",
    "model_dnn_cv.add(Dense(500, activation='elu', input_shape = (n_cols,), kernel_initializer=keras.initializers.HeNormal()))\n",
    "model_dnn_cv.add(BatchNormalization())\n",
    "\n",
    "model_dnn_cv.add(Dense(450, activation='elu', kernel_initializer=keras.initializers.HeNormal()))\n",
    "model_dnn_cv.add(BatchNormalization())\n",
    "\n",
    "model_dnn_cv.add(Dense(400, activation='elu', kernel_initializer=keras.initializers.HeNormal()))\n",
    "model_dnn_cv.add(BatchNormalization())\n",
    "\n",
    "model_dnn_cv.add(Dense(600, activation='elu', kernel_initializer=keras.initializers.HeNormal()))\n",
    "model_dnn_cv.add(BatchNormalization())\n",
    "\n",
    "model_dnn_cv.add(Dense(350, activation='elu', kernel_initializer=keras.initializers.HeNormal()))\n",
    "model_dnn_cv.add(BatchNormalization())\n",
    "\n",
    "model_dnn_cv.add(Dense(300, activation='elu', kernel_initializer=keras.initializers.HeNormal()))\n",
    "model_dnn_cv.add(BatchNormalization())\n",
    "\n",
    "model_dnn_cv.add(Dense(250, activation='elu', kernel_initializer=keras.initializers.HeNormal()))\n",
    "model_dnn_cv.add(BatchNormalization())\n",
    "\n",
    "model_dnn_cv.add(Dense(200, activation='elu', kernel_initializer=keras.initializers.HeNormal()))\n",
    "model_dnn_cv.add(BatchNormalization())\n",
    "\n",
    "model_dnn_cv.add(Dense(100, activation='elu', kernel_initializer=keras.initializers.HeNormal()))\n",
    "model_dnn_cv.add(BatchNormalization())\n",
    "\n",
    "model_dnn_cv.add(Dense(50, activation='elu',  kernel_initializer=keras.initializers.HeNormal()))\n",
    "model_dnn_cv.add(BatchNormalization())\n",
    "model_dnn_cv.add(Dropout(0.2)) # drop out\n",
    "\n",
    "model_dnn_cv.add(Dense(1))\n",
    "\n",
    "# Compile the model_dnn_cv\n",
    "model_dnn_cv.compile(optimizer='adam', loss='mean_squared_error', metrics=['accuracy'])\n",
    "\n",
    "# Define early_stopping_monitor\n",
    "early_stopping_monitor = EarlyStopping(patience = 2)\n",
    "\n",
    "# Fit the model_dnn_cv\n",
    "model_dnn_cv.fit(X_train_cv, y_train_cv, epochs = 100, validation_split = 0.1)\n",
    "          #callbacks = [early_stopping_monitor])\n"
   ]
  },
  {
   "cell_type": "markdown",
   "id": "923f524a-5ca7-4b42-b689-a12edb9d697c",
   "metadata": {},
   "source": [
    "#### DNN Prediction"
   ]
  },
  {
   "cell_type": "code",
   "execution_count": null,
   "id": "6515e884-0e36-4561-8cf1-245813b7c486",
   "metadata": {},
   "outputs": [],
   "source": [
    "pred_train_dnn_cv = pd.DataFrame(model_dnn_cv.predict(X_train_cv))\n",
    "pred_train_dnn_cv.columns = ['OPOR_pred_train_dnn_cv']\n",
    "# pred_test.to_csv('pred_test1.csv')"
   ]
  },
  {
   "cell_type": "code",
   "execution_count": null,
   "id": "cc0be239-40e7-4da0-a7f2-ad78d913ecd9",
   "metadata": {},
   "outputs": [],
   "source": [
    "mse_dnn_train_cv = mean_squared_error(y_train_cv, model_dnn_cv.predict(X_train_cv))\n",
    "r2_dnn_train_cv = r2_score(y_train_cv, model_dnn_cv.predict(X_train_cv))\n",
    "\n",
    "print(\"Mean Squared Error DNN Train CV:\",mse_dnn_train_cv)\n",
    "print(\"R-squared Score DNN Train CV:\", r2_dnn_train_cv)"
   ]
  },
  {
   "cell_type": "code",
   "execution_count": null,
   "id": "76505710-f6ae-4b45-bf50-c890a04e46ab",
   "metadata": {},
   "outputs": [],
   "source": [
    "pred_test_dnn_cv = pd.DataFrame(model_dnn_cv.predict(X_test_cv))\n",
    "pred_test_dnn_cv.columns = ['OPOR_pred_test_dnn_cv']\n",
    "# pred_test.to_csv('pred_test1.csv')"
   ]
  },
  {
   "cell_type": "code",
   "execution_count": null,
   "id": "e78e14bd-30c2-4076-9235-172cc38026c0",
   "metadata": {},
   "outputs": [],
   "source": [
    "mse_dnn_test_cv = mean_squared_error(y_test_cv, model_dnn_cv.predict(X_test_cv))\n",
    "r2_dnn_test_cv = r2_score(y_test_cv, model_dnn_cv.predict(X_test_cv))\n",
    "\n",
    "print(\"Mean Squared Error DNN Test CV:\",mse_dnn_test_cv)\n",
    "print(\"R-squared Score DNN Test CV:\", r2_dnn_test_cv)"
   ]
  },
  {
   "cell_type": "code",
   "execution_count": null,
   "id": "5d978c01-ace0-4a2c-80f8-2f7455070719",
   "metadata": {},
   "outputs": [],
   "source": [
    "df_dnn_train_cv = pd.concat((train_cv[['OPOR', 'carriercode', 'occasion']].reset_index(), pred_train_dnn_cv), axis =1)\n",
    "#df_dnn_test.to_csv('df_dnn_test.csv')"
   ]
  },
  {
   "cell_type": "code",
   "execution_count": null,
   "id": "6fbf806f-a2d0-4cab-bbfc-735d241f6e01",
   "metadata": {},
   "outputs": [],
   "source": [
    "df_dnn_test_cv = pd.concat((test_cv[['OPOR', 'carriercode', 'occasion']].reset_index(), pred_test_dnn_cv), axis =1)\n",
    "#df_dnn_test.to_csv('df_dnn_test.csv')"
   ]
  },
  {
   "cell_type": "markdown",
   "id": "f8bda48b-b484-4fcf-8276-9859d0c1882f",
   "metadata": {},
   "source": [
    "## XGB"
   ]
  },
  {
   "cell_type": "code",
   "execution_count": null,
   "id": "11e4a2d7-9df2-4a13-8d2f-5a771c437f21",
   "metadata": {},
   "outputs": [],
   "source": [
    "import xgboost as xgb\n",
    "from sklearn.metrics import mean_squared_error, r2_score"
   ]
  },
  {
   "cell_type": "code",
   "execution_count": null,
   "id": "01928b70-1c9f-469f-9306-ee20e70cc5ed",
   "metadata": {},
   "outputs": [],
   "source": [
    "#Creating an XGBoost regressor\n",
    "model_xgb_cv = xgb.XGBRegressor()\n",
    "\n",
    "#Training the model on the training data\n",
    "model_xgb_cv.fit(X_train_cv, y_train_cv)\n",
    "\n",
    "#Making predictions on the train data\n",
    "pred_xgb_train_cv = model_xgb_cv.predict(X_train_cv)\n",
    "\n",
    "#Making predictions on the test set\n",
    "pred_xgb_test_cv = model_xgb_cv.predict(X_test_cv)\n",
    "\n",
    "# Calculate the mean squared error and R-squared score for Train\n",
    "mse_xgb_train_cv = mean_squared_error(y_train_cv, pred_xgb_train_cv)\n",
    "r2_xgb_train_cv  = r2_score(y_train_cv, pred_xgb_train_cv)\n",
    "\n",
    "# Calculate the mean squared error and R-squared score\n",
    "mse_xgb_test_cv  = mean_squared_error(y_test_cv, pred_xgb_test_cv)\n",
    "r2_xgb_test_cv  = r2_score(y_test_cv, pred_xgb_test_cv)\n",
    "\n",
    "print(\"Mean Squared Error XGB Train CV:\", mse_xgb_train_cv)\n",
    "print(\"R-squared Score XGB Train CV:\", r2_xgb_train_cv)\n",
    "\n",
    "print(\"Mean Squared Error XGB Test CV:\", mse_xgb_test_cv)\n",
    "print(\"R-squared Score XGB Test CV:\", r2_xgb_test_cv)"
   ]
  },
  {
   "cell_type": "code",
   "execution_count": null,
   "id": "f5ee7a79-5578-4ceb-af57-4aa95808b6c7",
   "metadata": {},
   "outputs": [],
   "source": [
    "pred_xgb_train_cv = pd.DataFrame(model_xgb_cv.predict(X_train_cv))\n",
    "\n",
    "pred_xgb_train_cv.columns = ['OPOR_pred_train_xgb_cv']"
   ]
  },
  {
   "cell_type": "code",
   "execution_count": null,
   "id": "74fd15bc-217b-4150-af5d-b107c806d583",
   "metadata": {},
   "outputs": [],
   "source": [
    "pred_xgb_test_cv = pd.DataFrame(model_xgb_cv.predict(X_test_cv))\n",
    "\n",
    "pred_xgb_test_cv.columns = ['OPOR_pred_test_xgb_cv']"
   ]
  },
  {
   "cell_type": "code",
   "execution_count": null,
   "id": "802d334a-fd7a-455d-ad24-1182e401e012",
   "metadata": {},
   "outputs": [],
   "source": [
    "df_xgb_train_cv = pd.concat([df_dnn_train_cv, pred_xgb_train_cv], axis =1)"
   ]
  },
  {
   "cell_type": "code",
   "execution_count": null,
   "id": "c27a549c-cce3-431f-9ac3-7039e14a89bf",
   "metadata": {},
   "outputs": [],
   "source": [
    "df_xgb_test_cv = pd.concat([df_dnn_test_cv, pred_xgb_test_cv], axis =1)"
   ]
  },
  {
   "cell_type": "code",
   "execution_count": null,
   "id": "c6d7b79a-3c24-4bf2-9388-d763e103b266",
   "metadata": {},
   "outputs": [],
   "source": [
    "df_xgb_train_cv.columns"
   ]
  },
  {
   "cell_type": "code",
   "execution_count": null,
   "id": "da384fdb-9bc5-4d8b-9095-421fc2e220b2",
   "metadata": {},
   "outputs": [],
   "source": [
    "df_xgb_train_cv['dnn_dif2'] = (df_xgb_train_cv.OPOR - df_xgb_train_cv.OPOR_pred_train_dnn_cv)*(df_xgb_train_cv.OPOR - df_xgb_train_cv.OPOR_pred_train_dnn_cv)\n",
    "df_xgb_train_cv['xgb_dif2'] = (df_xgb_train_cv.OPOR - df_xgb_train_cv.OPOR_pred_train_xgb_cv)*(df_xgb_train_cv.OPOR - df_xgb_train_cv.OPOR_pred_train_xgb_cv)"
   ]
  },
  {
   "cell_type": "code",
   "execution_count": null,
   "id": "b2ba10a1-b939-4ae1-b8ee-ea96bf865b9e",
   "metadata": {},
   "outputs": [],
   "source": [
    "# find the mean of dnn_dif2 and xgb_dif2 group by carriercode\n",
    "df_xgb_train_cv.groupby('carriercode')['dnn_dif2'].mean()"
   ]
  },
  {
   "cell_type": "code",
   "execution_count": null,
   "id": "ba692421-a74c-4ce1-aa9e-db8ad874e3d4",
   "metadata": {
    "scrolled": true
   },
   "outputs": [],
   "source": [
    "df_xgb_train_cv.groupby('carriercode')['xgb_dif2'].mean()"
   ]
  },
  {
   "cell_type": "code",
   "execution_count": null,
   "id": "00255930-2002-4f14-a1aa-7cd1ba23073d",
   "metadata": {},
   "outputs": [],
   "source": [
    "df_xgb_test_cv.columns"
   ]
  },
  {
   "cell_type": "code",
   "execution_count": null,
   "id": "5bd458ea-58e9-4b15-89cf-e4ccfcf9a277",
   "metadata": {},
   "outputs": [],
   "source": [
    "df_xgb_test_cv['dnn_dif2'] = (df_xgb_test_cv.OPOR - df_xgb_test_cv.OPOR_pred_test_dnn_cv)*(df_xgb_test_cv.OPOR - df_xgb_test_cv.OPOR_pred_test_dnn_cv)\n",
    "df_xgb_test_cv['xgb_dif2'] = (df_xgb_test_cv.OPOR - df_xgb_test_cv.OPOR_pred_test_xgb_cv)*(df_xgb_test_cv.OPOR - df_xgb_test_cv.OPOR_pred_test_xgb_cv)"
   ]
  },
  {
   "cell_type": "code",
   "execution_count": null,
   "id": "f3e98d57-56fd-47cc-9a76-bcdf38b71710",
   "metadata": {},
   "outputs": [],
   "source": [
    "df_xgb_test_cv.groupby('carriercode')['dnn_dif2'].mean()"
   ]
  },
  {
   "cell_type": "code",
   "execution_count": null,
   "id": "d7d07cb5-e3d0-4ab1-976d-d58caac059dc",
   "metadata": {},
   "outputs": [],
   "source": [
    "df_xgb_test_cv.groupby('carriercode')['xgb_dif2'].mean()"
   ]
  },
  {
   "cell_type": "markdown",
   "id": "cc27ba40-3efc-4271-b1c8-91f4d85a65f9",
   "metadata": {},
   "source": [
    "## Read in Stata Files"
   ]
  },
  {
   "cell_type": "code",
   "execution_count": null,
   "id": "ed033b30-fa58-4548-adb6-ba8233f060aa",
   "metadata": {},
   "outputs": [],
   "source": [
    "stata_train_cv = pd.read_csv('/home/Data_Ubuntu/StataTrain_cv.csv')"
   ]
  },
  {
   "cell_type": "code",
   "execution_count": null,
   "id": "0c842424-48e5-4187-b3b1-d835d911873b",
   "metadata": {},
   "outputs": [],
   "source": [
    "df_train_all = pd.merge(stata_train_cv, df_xgb_train_cv,  how='left', left_on=['carriercode','occasion'], right_on = ['carriercode','occasion'])"
   ]
  },
  {
   "cell_type": "code",
   "execution_count": null,
   "id": "ccb428ba-e9cd-4309-b269-f5cbf0d04592",
   "metadata": {},
   "outputs": [],
   "source": [
    "df_train_all.shape"
   ]
  },
  {
   "cell_type": "code",
   "execution_count": null,
   "id": "82d2cd36-f482-480a-b761-9d8919afab5c",
   "metadata": {},
   "outputs": [],
   "source": [
    "plt.plot(df_train_all['OPOR'], label= \"Actual OPOR\", color = 'slategrey', linewidth= 7,alpha = 0.7)\n",
    "plt.plot(df_train_all['OPOR_pred_train_dnn_cv'], label= \"DNN Predicted OPOR\", color = 'blue', linestyle ='dotted')\n",
    "plt.plot(df_train_all['OPOR_pred_train_xgb_cv'], label= \"XGB Predicted OPOR\", color = 'green')\n",
    "plt.plot(df_train_all['pout_fe_cv'], label= \"Fixed Effects Predicted OPOR\", color = 'darkorange', linestyle ='dashed')\n",
    "plt.plot(df_train_all['pout_xtmixed_cv'], label= \"Mixed Effects Predicted OPOR\", color = 'Purple', linestyle ='dashdot')\n",
    "\n",
    "plt.xlabel('All Carriers Training Monte Carlo Observations')\n",
    "plt.ylabel('OPOR')\n",
    "plt.xticks([])\n",
    "\n",
    "plt.title('All Carriers Training Monte Carlo Predictions')\n",
    "plt.legend()\n",
    "plt.legend(loc=4, prop={'size': 8})\n",
    "\n",
    "plt.savefig('AllCarrier_MonteCarlo_Train_CV.pdf')"
   ]
  },
  {
   "cell_type": "code",
   "execution_count": null,
   "id": "9d3674ff-c5c4-471f-83ea-b9a01305f1fa",
   "metadata": {},
   "outputs": [],
   "source": [
    "american_train = df_train_all[df_train_all['carriercode'] == 6]\n",
    "\n",
    "delta_train = df_train_all[df_train_all['carriercode'] == 11]\n",
    "\n",
    "sw_train = df_train_all[df_train_all['carriercode'] == 24]\n",
    "\n",
    "united_train = df_train_all[df_train_all['carriercode'] == 26]\n",
    "\n",
    "plt.figure(figsize = (12,8))\n",
    "\n",
    "## American \n",
    "plt.subplot(2,2,1)\n",
    "plt.plot(american_train['OPOR'], label= \"Actual OPOR\", color = 'slategrey', linewidth= 6,alpha = 0.7)\n",
    "plt.plot(american_train['OPOR_pred_train_dnn_cv'], label= \"DNN Predicted OPOR\", color = 'blue', linestyle ='dotted')\n",
    "plt.plot(american_train['OPOR_pred_train_xgb_cv'], label= \"XGB Predicted OPOR\", color = 'green')\n",
    "plt.plot(american_train['pout_fe_cv'], label= \"Fixed Effects Predicted OPOR\", color = 'darkorange', linestyle ='dashed')\n",
    "plt.plot(american_train['pout_xtmixed_cv'], label= \"Mixed Effects Predicted OPOR\", color = 'purple', linestyle = 'dashdot')\n",
    "\n",
    "plt.xlabel('American Monte Carlo Training Observations')\n",
    "plt.ylabel('OPOR')\n",
    "plt.title('American Airline')\n",
    "plt.xticks([])\n",
    "\n",
    "plt.legend()\n",
    "plt.legend(loc=4, prop={'size': 6})\n",
    "\n",
    "\n",
    "## Delta\n",
    "plt.subplot(2,2,2)\n",
    "plt.plot(delta_train['OPOR'], label= \"Actual OPOR\", color = 'slategrey', linewidth= 6,alpha = 0.7)\n",
    "plt.plot(delta_train['OPOR_pred_train_dnn_cv'], label= \"DNN Predicted OPOR\", color = 'blue', linestyle ='dotted')\n",
    "plt.plot(delta_train['OPOR_pred_train_xgb_cv'], label= \"XGB Predicted OPOR\", color = 'green')\n",
    "plt.plot(delta_train['pout_fe_cv'], label= \"Fixed Effects Predicted OPOR\", color = 'darkorange', linestyle ='dashed')\n",
    "plt.plot(delta_train['pout_xtmixed_cv'], label= \"Mixed Effects Predicted OPOR\", color = 'purple', linestyle = 'dashdot')\n",
    "\n",
    "plt.xlabel('Delta Monte Carlo Training Observations')\n",
    "plt.ylabel('OPOR')\n",
    "plt.title('Delta Airline')\n",
    "plt.xticks([])\n",
    "\n",
    "plt.legend()\n",
    "plt.legend(loc=4, prop={'size': 6})\n",
    "\n",
    "## Southwest\n",
    "plt.subplot(2,2,3)\n",
    "plt.plot(sw_train['OPOR'], label= \"Actual OPOR\", color = 'slategrey', linewidth= 6,alpha = 0.7)\n",
    "plt.plot(sw_train['OPOR_pred_train_dnn_cv'], label= \"DNN Predicted OPOR\", color = 'blue', linestyle ='dotted')\n",
    "plt.plot(sw_train['OPOR_pred_train_xgb_cv'], label= \"XGB Predicted OPOR\", color = 'green')\n",
    "plt.plot(sw_train['pout_fe_cv'], label= \"Fixed Effects Predicted OPOR\", color = 'darkorange', linestyle ='dashed')\n",
    "plt.plot(sw_train['pout_xtmixed_cv'], label= \"Mixed Effects Predicted OPOR\", color = 'purple', linestyle = 'dashdot')\n",
    "\n",
    "plt.xlabel('SouthWest Monte Carlo Training Observations')\n",
    "plt.ylabel('OPOR')\n",
    "plt.title('SouthWest Airline')\n",
    "plt.xticks([])\n",
    "\n",
    "plt.legend()\n",
    "plt.legend(loc=4, prop={'size': 6})\n",
    "\n",
    "## United\n",
    "plt.subplot(2,2,4)\n",
    "plt.plot(united_train['OPOR'], label= \"Actual OPOR\", color = 'slategrey', linewidth= 6,alpha = 0.7)\n",
    "plt.plot(united_train['OPOR_pred_train_dnn_cv'], label= \"DNN Predicted OPOR\", color = 'blue', linestyle ='dotted')\n",
    "plt.plot(united_train['OPOR_pred_train_xgb_cv'], label= \"XGB Predicted OPOR\", color = 'green')\n",
    "plt.plot(united_train['pout_fe_cv'], label= \"Fixed Effects Predicted OPOR\", color = 'darkorange', linestyle ='dashed')\n",
    "plt.plot(united_train['pout_xtmixed_cv'], label= \"Mixed Effects Predicted OPOR\", color = 'purple', linestyle = 'dashdot')\n",
    "\n",
    "plt.xlabel('United Monte Carlo Training Observations')\n",
    "plt.ylabel('OPOR')\n",
    "plt.title('United Airline')\n",
    "plt.xticks([])\n",
    "\n",
    "plt.legend()\n",
    "plt.legend(loc=4, prop={'size': 6})\n",
    "\n",
    "plt.savefig('Big4_MonteCarlo_Train_CV.pdf')"
   ]
  },
  {
   "cell_type": "markdown",
   "id": "fba869e1-57b5-46ce-8838-8e324ff1d4b9",
   "metadata": {},
   "source": [
    "#### Monte Carlo Testing Figures"
   ]
  },
  {
   "cell_type": "code",
   "execution_count": null,
   "id": "a7caedd1-f1ea-4118-ba79-9dc90b4afdd8",
   "metadata": {},
   "outputs": [],
   "source": [
    "stata_test = pd.read_csv('/home/kuangwenyi/Data_Ubuntu/StataTest_cv.csv')"
   ]
  },
  {
   "cell_type": "code",
   "execution_count": null,
   "id": "de2c3e1d-bb31-43db-bb9c-18950cfcf3dc",
   "metadata": {},
   "outputs": [],
   "source": [
    "df_test_all = pd.merge(stata_test, df_xgb_test_cv,  how='left', left_on=['carriercode','occasion'], right_on = ['carriercode','occasion'])"
   ]
  },
  {
   "cell_type": "code",
   "execution_count": null,
   "id": "548ad793-9b07-4e82-84a4-be58bbce496a",
   "metadata": {},
   "outputs": [],
   "source": [
    "plt.plot(df_test_all['OPOR'], label= \"Actual OPOR\", color = 'slategrey', linewidth= 4,alpha = 0.7)\n",
    "plt.plot(df_test_all['OPOR_pred_test_dnn_cv'], label= \"DNN Predicted OPOR\", color = 'blue', linestyle ='dotted')\n",
    "plt.plot(df_test_all['OPOR_pred_test_xgb_cv'], label= \"XGB Predicted OPOR\", color = 'green')\n",
    "plt.plot(df_test_all['pout_fe_cv_test'], label= \"Fixed Effects Predicted OPOR\", color = 'darkorange', linestyle ='dashed')\n",
    "plt.plot(df_test_all['pout_xtmixed_cv_test'], label= \"Mixed Effects Predicted OPOR\", color = 'Purple', linestyle ='dashdot')\n",
    "\n",
    "plt.xlabel('Monte Carlo Testing Observations')\n",
    "plt.ylabel('OPOR')\n",
    "plt.xticks([])\n",
    "\n",
    "plt.title('All Carriers Monte Carlo Testing Predictions')\n",
    "plt.legend()\n",
    "plt.legend(loc=4, prop={'size': 8})\n",
    "\n",
    "plt.savefig('AllCarrier_MonteCarlo_Test_CV.pdf')"
   ]
  },
  {
   "cell_type": "code",
   "execution_count": null,
   "id": "88a55e5e-e3c9-4742-b105-ad500baa74d1",
   "metadata": {},
   "outputs": [],
   "source": [
    "df_test_all.columns"
   ]
  },
  {
   "cell_type": "code",
   "execution_count": null,
   "id": "1611297c-3ddc-4c86-9a79-4fbcdfce06eb",
   "metadata": {},
   "outputs": [],
   "source": [
    "american_test = df_test_all[df_test_all['carriercode'] == 6]\n",
    "\n",
    "delta_test = df_test_all[df_test_all['carriercode'] == 11]\n",
    "\n",
    "sw_test = df_test_all[df_test_all['carriercode'] == 24]\n",
    "\n",
    "united_test = df_test_all[df_test_all['carriercode'] == 26]\n",
    "\n",
    "plt.figure(figsize = (12,8))\n",
    "\n",
    "## American \n",
    "plt.subplot(2,2,1)\n",
    "plt.plot(american_test['OPOR'], label= \"Actual OPOR\", color = 'slategrey', linewidth= 6,alpha = 0.7)\n",
    "plt.plot(american_test['OPOR_pred_test_dnn_cv'], label= \"DNN Predicted OPOR\", color = 'blue', linestyle ='dotted')\n",
    "plt.plot(american_test['OPOR_pred_test_xgb_cv'], label= \"XGB Predicted OPOR\", color = 'green')\n",
    "plt.plot(american_test['pout_fe_cv_test'], label= \"Fixed Effects Predicted OPOR\", color = 'darkorange', linestyle ='dashed')\n",
    "plt.plot(american_test['pout_xtmixed_cv_test'], label= \"Mixed Effects Predicted OPOR\", color = 'purple', linestyle = 'dashdot')\n",
    "\n",
    "plt.xlabel('American Monte Carlo Testing Observations')\n",
    "plt.ylabel('OPOR')\n",
    "plt.title('American Airline')\n",
    "plt.xticks([])\n",
    "\n",
    "plt.legend()\n",
    "plt.legend(loc=4, prop={'size': 6})\n",
    "\n",
    "\n",
    "## Delta\n",
    "plt.subplot(2,2,2)\n",
    "plt.plot(delta_test['OPOR'], label= \"Actual OPOR\", color = 'slategrey', linewidth= 6,alpha = 0.7)\n",
    "plt.plot(delta_test['OPOR_pred_test_dnn_cv'], label= \"DNN Predicted OPOR\", color = 'blue', linestyle ='dotted')\n",
    "plt.plot(delta_test['OPOR_pred_test_xgb_cv'], label= \"XGB Predicted OPOR\", color = 'green')\n",
    "plt.plot(delta_test['pout_fe_cv_test'], label= \"Fixed Effects Predicted OPOR\", color = 'darkorange', linestyle ='dashed')\n",
    "plt.plot(delta_test['pout_xtmixed_cv_test'], label= \"Mixed Effects Predicted OPOR\", color = 'purple', linestyle = 'dashdot')\n",
    "\n",
    "plt.xlabel('Delta Monte Carlo Testing Observations')\n",
    "plt.ylabel('OPOR')\n",
    "plt.title('Delta Airline')\n",
    "plt.xticks([])\n",
    "\n",
    "plt.legend()\n",
    "plt.legend(loc=4, prop={'size': 6})\n",
    "\n",
    "## Southwest\n",
    "plt.subplot(2,2,3)\n",
    "plt.plot(sw_test['OPOR'], label= \"Actual OPOR\", color = 'slategrey', linewidth= 6,alpha = 0.7)\n",
    "plt.plot(sw_test['OPOR_pred_test_dnn_cv'], label= \"DNN Predicted OPOR\", color = 'blue', linestyle ='dotted')\n",
    "plt.plot(sw_test['OPOR_pred_test_xgb_cv'], label= \"XGB Predicted OPOR\", color = 'green')\n",
    "plt.plot(sw_test['pout_fe_cv_test'], label= \"Fixed Effects Predicted OPOR\", color = 'darkorange', linestyle ='dashed')\n",
    "plt.plot(sw_test['pout_xtmixed_cv_test'], label= \"Mixed Effects Predicted OPOR\", color = 'purple', linestyle = 'dashdot')\n",
    "\n",
    "plt.xlabel('SouthWest Monte Carlo Testing Observations')\n",
    "plt.ylabel('OPOR')\n",
    "plt.title('SouthWest Airline')\n",
    "plt.xticks([])\n",
    "\n",
    "plt.legend()\n",
    "plt.legend(loc=4, prop={'size': 6})\n",
    "\n",
    "## United\n",
    "plt.subplot(2,2,4)\n",
    "plt.plot(united_test['OPOR'], label= \"Actual OPOR\", color = 'slategrey', linewidth= 6,alpha = 0.7)\n",
    "plt.plot(united_test['OPOR_pred_test_dnn_cv'], label= \"DNN Predicted OPOR\", color = 'blue', linestyle ='dotted')\n",
    "plt.plot(united_test['OPOR_pred_test_xgb_cv'], label= \"XGB Predicted OPOR\", color = 'green')\n",
    "plt.plot(united_test['pout_fe_cv_test'], label= \"Fixed Effects Predicted OPOR\", color = 'darkorange', linestyle ='dashed')\n",
    "plt.plot(united_test['pout_xtmixed_cv_test'], label= \"Mixed Effects Predicted OPOR\", color = 'purple', linestyle = 'dashdot')\n",
    "\n",
    "plt.xlabel('United Monte Carlo Testing Observations')\n",
    "plt.ylabel('OPOR')\n",
    "plt.title('United Airline')\n",
    "plt.xticks([])\n",
    "\n",
    "plt.legend()\n",
    "plt.legend(loc=4, prop={'size': 6})\n",
    "\n",
    "plt.savefig('Big4_MonteCarlo_Test_CV.pdf')"
   ]
  },
  {
   "cell_type": "markdown",
   "id": "a34a769a-1034-4902-99fe-66b4cab0634d",
   "metadata": {
    "jp-MarkdownHeadingCollapsed": true
   },
   "source": [
    "# PART 3 Predicting Future Financials (last 8 Quarters)"
   ]
  },
  {
   "cell_type": "code",
   "execution_count": null,
   "id": "589ca04f-8837-429c-b189-77f9a460804d",
   "metadata": {},
   "outputs": [],
   "source": [
    "df_raw = pd.read_csv('/home/Data_Ubuntu/E1_891.csv')"
   ]
  },
  {
   "cell_type": "code",
   "execution_count": null,
   "id": "28d586e8-5d1d-46d4-8728-7a1d4e32801d",
   "metadata": {},
   "outputs": [],
   "source": [
    "df_raw = df_raw[df_raw.carriercode != 3]\n",
    "df_raw = df_raw[df_raw.carriercode != 5]\n",
    "df_raw = df_raw[df_raw.carriercode != 7]\n",
    "df_raw = df_raw[df_raw.carriercode != 17]"
   ]
  },
  {
   "cell_type": "code",
   "execution_count": null,
   "id": "1e076c76-4ac8-4f11-b727-2614f15f2c79",
   "metadata": {},
   "outputs": [],
   "source": [
    "df_raw.carriercode.unique()\n",
    "df = df_raw"
   ]
  },
  {
   "cell_type": "code",
   "execution_count": null,
   "id": "35eea198-034d-4c20-9e2e-301bdf9d8f97",
   "metadata": {},
   "outputs": [],
   "source": [
    "# convert catigorical var\n",
    "cat_vars = ['carriercode', 'year', 'quarter']\n",
    "# cat_vars = ['quarter']\n",
    "data_cat, cat_var_list = md.cat_conv(df[cat_vars])\n",
    "\n",
    "# define continuous variables\n",
    "cont_vars = ['OPOR', 'lyield', 'lLFP', 'lfleetutil', 'lfueleff', 'lpOntime',\n",
    "       'lmisbagg', 'ltotaldelay', 'lcomplaint', 'lhetero', 'lavglandfee',\n",
    "       'lsparsity', 'lMKTshare', 'ltdomt_cost', 'lrevpaxenplaned', 'lempfte', 'occasion', 'carriercode']\n",
    "\n",
    "# combine data\n",
    "total_list = [df[cont_vars]]\n",
    "total_list.append(data_cat)\n",
    "\n",
    "total_df = pd.concat(total_list, axis=1)"
   ]
  },
  {
   "cell_type": "code",
   "execution_count": null,
   "id": "415a3ff0-f422-4275-a1f7-c43f0509d2d0",
   "metadata": {},
   "outputs": [],
   "source": [
    "# remove the last 8 observations  for each carriercode\n",
    "train_df = total_df.groupby('carriercode', group_keys=False, as_index=False).apply(lambda x: x.iloc[:-8])\n",
    "y_train = np.array(train_df[['OPOR']])\n",
    "X_train = np.array(train_df.drop('OPOR',axis=1))\n",
    "\n",
    "# keep only the last 8 observations for each carriercode\n",
    "test_df = total_df.groupby('carriercode', group_keys=False, as_index=False).apply(lambda x: x.iloc[-8:])\n",
    "y_test = np.array(test_df[['OPOR']])\n",
    "X_test = np.array(test_df.drop('OPOR',axis=1))"
   ]
  },
  {
   "cell_type": "code",
   "execution_count": null,
   "id": "af216dd2-dd93-4a2a-abcb-a622ac000423",
   "metadata": {},
   "outputs": [],
   "source": [
    "test_df.to_csv('last160.csv', index = False)\n",
    "train_df.to_csv('first705.csv', index = False)"
   ]
  },
  {
   "cell_type": "code",
   "execution_count": null,
   "id": "1d62076c-e82f-4cba-8db1-9222f7bc680a",
   "metadata": {},
   "outputs": [],
   "source": [
    "print(train_df.shape)\n",
    "print(test_df.shape)"
   ]
  },
  {
   "cell_type": "code",
   "execution_count": null,
   "id": "fa45afee-7d13-4d60-b205-39b6b9893a2a",
   "metadata": {},
   "outputs": [],
   "source": [
    "# re-read in test dataframe and train dataframe\n",
    "test_df = pd.read_csv('/home/last160.csv')\n",
    "train_df = pd.read_csv('/home/first705.csv')"
   ]
  },
  {
   "cell_type": "code",
   "execution_count": null,
   "id": "5ee1c953-2454-4a63-a0df-7c7d7ca4549a",
   "metadata": {},
   "outputs": [],
   "source": [
    "print(train_df.shape)\n",
    "print(test_df.shape)"
   ]
  },
  {
   "cell_type": "markdown",
   "id": "5dc5b8c7-3423-4d31-aa8e-406290eaa5f7",
   "metadata": {},
   "source": [
    "## DNN "
   ]
  },
  {
   "cell_type": "code",
   "execution_count": null,
   "id": "5debb43e-2fa8-49d8-adfc-daa882f52658",
   "metadata": {},
   "outputs": [],
   "source": [
    "keras.utils.set_random_seed(1234) # 0.0026 loss for this random seed\n",
    "# Save the number of columns in predictors: n_cols\n",
    "n_cols = X_train.shape[1]\n",
    "\n",
    "# Specify the model_dnn_test\n",
    "layer = Dense(11, )\n",
    "\n",
    "model_dnn_test = Sequential()\n",
    "model_dnn_test.add(Dense(500, activation='elu', input_shape = (n_cols,), kernel_initializer=keras.initializers.HeNormal()))\n",
    "model_dnn_test.add(BatchNormalization())\n",
    "\n",
    "model_dnn_test.add(Dense(450, activation='elu', kernel_initializer=keras.initializers.HeNormal()))\n",
    "model_dnn_test.add(BatchNormalization())\n",
    "\n",
    "model_dnn_test.add(Dense(400, activation='elu', kernel_initializer=keras.initializers.HeNormal()))\n",
    "model_dnn_test.add(BatchNormalization())\n",
    "\n",
    "model_dnn_test.add(Dense(600, activation='elu', kernel_initializer=keras.initializers.HeNormal()))\n",
    "model_dnn_test.add(BatchNormalization())\n",
    "\n",
    "model_dnn_test.add(Dense(350, activation='elu', kernel_initializer=keras.initializers.HeNormal()))\n",
    "model_dnn_test.add(BatchNormalization())\n",
    "\n",
    "model_dnn_test.add(Dense(300, activation='elu', kernel_initializer=keras.initializers.HeNormal()))\n",
    "model_dnn_test.add(BatchNormalization())\n",
    "\n",
    "model_dnn_test.add(Dense(250, activation='elu', kernel_initializer=keras.initializers.HeNormal()))\n",
    "model_dnn_test.add(BatchNormalization())\n",
    "\n",
    "model_dnn_test.add(Dense(200, activation='elu', kernel_initializer=keras.initializers.HeNormal()))\n",
    "model_dnn_test.add(BatchNormalization())\n",
    "\n",
    "model_dnn_test.add(Dense(100, activation='elu', kernel_initializer=keras.initializers.HeNormal()))\n",
    "model_dnn_test.add(BatchNormalization())\n",
    "\n",
    "model_dnn_test.add(Dense(50, activation='elu',  kernel_initializer=keras.initializers.HeNormal()))\n",
    "model_dnn_test.add(BatchNormalization())\n",
    "model_dnn_test.add(Dropout(0.2)) # drop out\n",
    "\n",
    "model_dnn_test.add(Dense(1))\n",
    "\n",
    "# Compile the model_dnn_test\n",
    "model_dnn_test.compile(optimizer='adam', loss='mean_squared_error', metrics=['accuracy'])\n",
    "\n",
    "# Define early_stopping_monitor\n",
    "early_stopping_monitor = EarlyStopping(patience = 2)\n",
    "\n",
    "# Fit the model_dnn_test\n",
    "model_dnn_test.fit(X_train, y_train, epochs = 100, validation_split = 0.1)\n",
    "          #callbacks = [early_stopping_monitor])"
   ]
  },
  {
   "cell_type": "markdown",
   "id": "9d0f8a8f-3e61-44f0-a478-7633a6e481e7",
   "metadata": {},
   "source": [
    "##### DNN Prediction"
   ]
  },
  {
   "cell_type": "code",
   "execution_count": null,
   "id": "4a870bdd-d4ef-44c0-8358-6f88ec756d22",
   "metadata": {},
   "outputs": [],
   "source": [
    "pred_train_dnn = pd.DataFrame(model_dnn_test.predict(X_train))\n",
    "pred_train_dnn.columns = ['OPOR_pred_train_dnn']\n",
    "# pred_test.to_csv('pred_test1.csv')"
   ]
  },
  {
   "cell_type": "code",
   "execution_count": null,
   "id": "7526e669-7e3c-48ea-96a0-e2fc96fe9946",
   "metadata": {},
   "outputs": [],
   "source": [
    "mse_dnn_train = mean_squared_error(y_train, model_dnn_test.predict(X_train))\n",
    "r2_dnn_train = r2_score(y_train, model_dnn_test.predict(X_train))\n",
    "\n",
    "print(\"Mean Squared Error DNN Train:\",mse_dnn_train)\n",
    "print(\"R-squared Score DNN Train:\", r2_dnn_train)"
   ]
  },
  {
   "cell_type": "code",
   "execution_count": null,
   "id": "3a25cb4f-5d45-4f9c-aea5-92ea80b72e53",
   "metadata": {
    "scrolled": true
   },
   "outputs": [],
   "source": [
    "pred_test_dnn = pd.DataFrame(model_dnn_test.predict(X_test))\n",
    "pred_test_dnn.columns = ['OPOR_pred_test_dnn']\n",
    "# pred_test.to_csv('pred_test1.csv')"
   ]
  },
  {
   "cell_type": "code",
   "execution_count": null,
   "id": "fac60239-d13e-421a-8de8-376c10c90c4b",
   "metadata": {},
   "outputs": [],
   "source": [
    "mse_dnn_test = mean_squared_error(y_test, model_dnn_test.predict(X_test))\n",
    "r2_dnn_test = r2_score(y_test, model_dnn_test.predict(X_test))\n",
    "\n",
    "print(\"Mean Squared Error DNN Test:\",mse_dnn_test)\n",
    "print(\"R-squared Score DNN Test:\", r2_dnn_test)"
   ]
  },
  {
   "cell_type": "code",
   "execution_count": null,
   "id": "acd959e0-8e31-4a8c-8ab6-98b7d19e9bb2",
   "metadata": {},
   "outputs": [],
   "source": [
    "df_dnn_train = pd.concat((train_df[['OPOR', 'carriercode', 'occasion']], pred_train_dnn), axis =1)\n",
    "#df_dnn_test.to_csv('df_dnn_test.csv')"
   ]
  },
  {
   "cell_type": "code",
   "execution_count": null,
   "id": "7d5e6017-0aae-4024-b683-5283d56b7958",
   "metadata": {},
   "outputs": [],
   "source": [
    "df_dnn_test = pd.concat((test_df[['OPOR', 'carriercode', 'occasion']], pred_test_dnn), axis =1)\n",
    "#df_dnn_test.to_csv('df_dnn_test.csv')"
   ]
  },
  {
   "cell_type": "markdown",
   "id": "3862b9f5-d142-49fe-8784-7dfd325c11fb",
   "metadata": {},
   "source": [
    "## XGB"
   ]
  },
  {
   "cell_type": "code",
   "execution_count": null,
   "id": "c34068ad-e533-4357-9acf-7bbcd080a14c",
   "metadata": {},
   "outputs": [],
   "source": [
    "import xgboost as xgb\n",
    "from sklearn.metrics import mean_squared_error, r2_score"
   ]
  },
  {
   "cell_type": "code",
   "execution_count": null,
   "id": "5abfab5a-4d8c-458c-af67-4557d7b4ef96",
   "metadata": {},
   "outputs": [],
   "source": [
    "#Creating an XGBoost regressor\n",
    "model_xgb_test = xgb.XGBRegressor()\n",
    "\n",
    "#Training the model on the training data\n",
    "model_xgb_test.fit(X_train, y_train)\n",
    "\n",
    "#Making predictions on the train data\n",
    "pred_xgb_train = model_xgb_test.predict(X_train)\n",
    "\n",
    "#Making predictions on the test set\n",
    "pred_xgb_test = model_xgb_test.predict(X_test)\n",
    "\n",
    "# Calculate the mean squared error and R-squared score for Train\n",
    "mse_xgb_train = mean_squared_error(y_train, pred_xgb_train)\n",
    "r2_xgb_train  = r2_score(y_train, pred_xgb_train)\n",
    "\n",
    "# Calculate the mean squared error and R-squared score\n",
    "mse_xgb_test  = mean_squared_error(y_test, pred_xgb_test)\n",
    "r2_xgb_test  = r2_score(y_test, pred_xgb_test)\n",
    "\n",
    "print(\"Mean Squared Error XGB Train:\", mse_xgb_train)\n",
    "print(\"R-squared Score XGB Train:\", r2_xgb_train )\n",
    "\n",
    "print(\"Mean Squared Error XGB Test:\", mse_xgb_test )\n",
    "print(\"R-squared Score XGB Test:\", r2_xgb_test)"
   ]
  },
  {
   "cell_type": "code",
   "execution_count": null,
   "id": "50285890-b2dd-42e4-98cc-3378f26cae77",
   "metadata": {},
   "outputs": [],
   "source": [
    "pred_xgb_train = pd.DataFrame(model_xgb_test.predict(X_train))\n",
    "\n",
    "pred_xgb_train.columns = ['OPOR_pred_train_xgb']"
   ]
  },
  {
   "cell_type": "code",
   "execution_count": null,
   "id": "e1dfbd35-c34d-42a5-85c3-28363dfab12f",
   "metadata": {},
   "outputs": [],
   "source": [
    "pred_xgb_test = pd.DataFrame(model_xgb_test.predict(X_test))\n",
    "\n",
    "pred_xgb_test.columns = ['OPOR_pred_test_xgb']"
   ]
  },
  {
   "cell_type": "code",
   "execution_count": null,
   "id": "e7cfde0f-ebcc-4839-b296-fc35a76965ee",
   "metadata": {},
   "outputs": [],
   "source": [
    "df_xgb_train = pd.concat([df_dnn_train, pred_xgb_train], axis =1)"
   ]
  },
  {
   "cell_type": "code",
   "execution_count": null,
   "id": "deac0fa6-5e62-4bb0-8648-6d4228508dbc",
   "metadata": {},
   "outputs": [],
   "source": [
    "df_xgb_test = pd.concat([df_dnn_test, pred_xgb_test], axis =1)"
   ]
  },
  {
   "cell_type": "code",
   "execution_count": null,
   "id": "4a636038-a978-469f-bfed-0a537842826f",
   "metadata": {
    "scrolled": true
   },
   "outputs": [],
   "source": [
    "df_xgb_train.shape"
   ]
  },
  {
   "cell_type": "code",
   "execution_count": null,
   "id": "7efae5f5-b0f1-49c4-b7d2-dfa9937895e1",
   "metadata": {},
   "outputs": [],
   "source": [
    "df_xgb_train['dnn_dif2'] = (df_xgb_train.OPOR - df_xgb_train.OPOR_pred_train_dnn)*(df_xgb_train.OPOR - df_xgb_train.OPOR_pred_train_dnn)\n",
    "df_xgb_train['xgb_dif2'] = (df_xgb_train.OPOR - df_xgb_train.OPOR_pred_train_xgb)*(df_xgb_train.OPOR - df_xgb_train.OPOR_pred_train_xgb)"
   ]
  },
  {
   "cell_type": "code",
   "execution_count": null,
   "id": "005c2b79-e052-4742-bb7b-9d1d985d8101",
   "metadata": {},
   "outputs": [],
   "source": [
    "df_xgb_test['dnn_dif2'] = (df_xgb_test.OPOR - df_xgb_test.OPOR_pred_test_dnn)*(df_xgb_test.OPOR - df_xgb_test.OPOR_pred_test_dnn)\n",
    "df_xgb_test['xgb_dif2'] = (df_xgb_test.OPOR - df_xgb_test.OPOR_pred_test_xgb)*(df_xgb_test.OPOR - df_xgb_test.OPOR_pred_test_xgb)"
   ]
  },
  {
   "cell_type": "code",
   "execution_count": null,
   "id": "c03001a2-4d7e-46e9-a534-0426d02a1a8c",
   "metadata": {},
   "outputs": [],
   "source": [
    "df_xgb_train.groupby('carriercode')['dnn_dif2'].mean()"
   ]
  },
  {
   "cell_type": "code",
   "execution_count": null,
   "id": "1045d8bd-8a47-476d-a1dd-cb34dd7fe9c1",
   "metadata": {},
   "outputs": [],
   "source": [
    "df_xgb_train.groupby('carriercode')['xgb_dif2'].mean()"
   ]
  },
  {
   "cell_type": "code",
   "execution_count": null,
   "id": "4f0f5dae-7c95-4904-a940-5d98bf80b82e",
   "metadata": {},
   "outputs": [],
   "source": [
    "df_xgb_test.groupby('carriercode')['dnn_dif2'].mean()"
   ]
  },
  {
   "cell_type": "code",
   "execution_count": null,
   "id": "c5b5ec95-4ea3-4f46-a71e-7a67db4ae4cb",
   "metadata": {},
   "outputs": [],
   "source": [
    "df_xgb_test.groupby('carriercode')['xgb_dif2'].mean()"
   ]
  },
  {
   "cell_type": "code",
   "execution_count": null,
   "id": "8a16aea5-15bf-4284-b802-502fca232b5f",
   "metadata": {},
   "outputs": [],
   "source": []
  },
  {
   "cell_type": "markdown",
   "id": "198db79f-5d38-4908-88bd-47533dd7a188",
   "metadata": {
    "jp-MarkdownHeadingCollapsed": true
   },
   "source": [
    "## Read in Training output file created by Stata"
   ]
  },
  {
   "cell_type": "code",
   "execution_count": null,
   "id": "0ede3944-f4be-455d-8fd6-703abfca9240",
   "metadata": {},
   "outputs": [],
   "source": [
    "stata_in = pd.read_csv('/home/Data_Ubuntu/StataOut_insample.csv')"
   ]
  },
  {
   "cell_type": "code",
   "execution_count": null,
   "id": "eb127482-e912-49f9-8986-6805391624cf",
   "metadata": {},
   "outputs": [],
   "source": [
    "df_in_all = pd.merge(stata_in, df_xgb_train,  how='left', left_on=['carriercode','occasion'], right_on = ['carriercode','occasion'])"
   ]
  },
  {
   "cell_type": "code",
   "execution_count": null,
   "id": "73464a57-e643-42ce-99a6-1c43e6f1eae1",
   "metadata": {},
   "outputs": [],
   "source": [
    "df_in_all.shape"
   ]
  },
  {
   "cell_type": "code",
   "execution_count": null,
   "id": "7d171d61-5376-49df-9733-4ecf9b13bfbf",
   "metadata": {},
   "outputs": [],
   "source": [
    "df_in_all  = df_in_all [df_in_all ['pout_fe_in'].notna()].reset_index()"
   ]
  },
  {
   "cell_type": "code",
   "execution_count": null,
   "id": "1bd59d02-aa5d-46d4-acff-2143fb6d3fcb",
   "metadata": {},
   "outputs": [],
   "source": [
    "df_in_all.to_csv('df_in_all.csv')"
   ]
  },
  {
   "cell_type": "markdown",
   "id": "9099e9aa-f24e-440f-8d0d-9a19cdae1473",
   "metadata": {},
   "source": [
    "##### ALL CARRIERS IN SAMPLE"
   ]
  },
  {
   "cell_type": "code",
   "execution_count": null,
   "id": "a5b9dce3-b23c-4697-b40c-2d884d4c437c",
   "metadata": {},
   "outputs": [],
   "source": [
    "plt.plot(df_in_all['OPOR'], label= \"Actual OPOR\", color = 'slategrey', linewidth= 7,alpha = 0.7)\n",
    "plt.plot(df_in_all['OPOR_pred_train_dnn'], label= \"DNN Predicted OPOR\", color = 'blue', linestyle ='dotted')\n",
    "plt.plot(df_in_all['OPOR_pred_train_xgb'], label= \"XGB Predicted OPOR\", color = 'green')\n",
    "plt.plot(df_in_all['pout_fe_in'], label= \"Fixed Effects Predicted OPOR\", color = 'darkorange', linestyle ='dashed')\n",
    "plt.plot(df_in_all['pout_xtmixed_in'], label= \"Mixed Effects Predicted OPOR\", color = 'Purple', linestyle ='dashdot')\n",
    "\n",
    "plt.xlabel('All Carriers In Sample Observations')\n",
    "plt.ylabel('OPOR')\n",
    "plt.xticks([])\n",
    "\n",
    "plt.title('All Carriers In Sample Prediction')\n",
    "plt.legend()\n",
    "plt.legend(loc=4, prop={'size': 8})\n",
    "\n",
    "plt.savefig('AllCarrierInSample.pdf')"
   ]
  },
  {
   "cell_type": "markdown",
   "id": "40629efb-e3be-4aab-b295-7b0937f17fc4",
   "metadata": {},
   "source": [
    "##### BIG FOUR IN SAMPLE"
   ]
  },
  {
   "cell_type": "code",
   "execution_count": null,
   "id": "24f29171-5661-4e3f-8d75-72012fb80b25",
   "metadata": {},
   "outputs": [],
   "source": [
    "american_in = df_in_all[df_in_all['carriercode'] == 6]\n",
    "\n",
    "delta_in = df_in_all[df_in_all['carriercode'] == 11]\n",
    "\n",
    "sw_in = df_in_all[df_in_all['carriercode'] == 24]\n",
    "\n",
    "united_in = df_in_all[df_in_all['carriercode'] == 26]\n",
    "\n",
    "plt.figure(figsize = (12,8))\n",
    "\n",
    "## American \n",
    "plt.subplot(2,2,1)\n",
    "plt.plot(american_in['OPOR'], label= \"Actual OPOR\", color = 'slategrey', linewidth= 6,alpha = 0.7)\n",
    "plt.plot(american_in['OPOR_pred_train_dnn'], label= \"DNN Predicted OPOR\", color = 'blue', linestyle ='dotted')\n",
    "plt.plot(american_in['OPOR_pred_train_xgb'], label= \"XGB Predicted OPOR\", color = 'green')\n",
    "plt.plot(american_in['pout_fe_in'], label= \"Fixed Effects Predicted OPOR\", color = 'darkorange', linestyle ='dashed')\n",
    "plt.plot(american_in['pout_xtmixed_in'], label= \"Mixed Effects Predicted OPOR\", color = 'purple', linestyle = 'dashdot')\n",
    "\n",
    "plt.xlabel('American In Sample Quarters')\n",
    "plt.ylabel('OPOR')\n",
    "plt.title('American Airline')\n",
    "plt.xticks([])\n",
    "\n",
    "plt.legend()\n",
    "plt.legend(loc=4, prop={'size': 6})\n",
    "\n",
    "\n",
    "## Delta\n",
    "plt.subplot(2,2,2)\n",
    "plt.plot(delta_in['OPOR'], label= \"Actual OPOR\", color = 'slategrey', linewidth= 6,alpha = 0.7)\n",
    "plt.plot(delta_in['OPOR_pred_train_dnn'], label= \"DNN Predicted OPOR\", color = 'blue', linestyle ='dotted')\n",
    "plt.plot(delta_in['OPOR_pred_train_xgb'], label= \"XGB Predicted OPOR\", color = 'green')\n",
    "plt.plot(delta_in['pout_fe_in'], label= \"Fixed Effects Predicted OPOR\", color = 'darkorange', linestyle ='dashed')\n",
    "plt.plot(delta_in['pout_xtmixed_in'], label= \"Mixed Effects Predicted OPOR\", color = 'purple', linestyle = 'dashdot')\n",
    "\n",
    "plt.xlabel('Delta In Sample Quarters')\n",
    "plt.ylabel('OPOR')\n",
    "plt.title('Delta Airline')\n",
    "plt.xticks([])\n",
    "\n",
    "plt.legend()\n",
    "plt.legend(loc=4, prop={'size': 6})\n",
    "\n",
    "## Southwest\n",
    "plt.subplot(2,2,3)\n",
    "plt.plot(sw_in['OPOR'], label= \"Actual OPOR\", color = 'slategrey', linewidth= 6,alpha = 0.7)\n",
    "plt.plot(sw_in['OPOR_pred_train_dnn'], label= \"DNN Predicted OPOR\", color = 'blue', linestyle ='dotted')\n",
    "plt.plot(sw_in['OPOR_pred_train_xgb'], label= \"XGB Predicted OPOR\", color = 'green')\n",
    "plt.plot(sw_in['pout_fe_in'], label= \"Fixed Effects Predicted OPOR\", color = 'darkorange', linestyle ='dashed')\n",
    "plt.plot(sw_in['pout_xtmixed_in'], label= \"Mixed Effects Predicted OPOR\", color = 'purple', linestyle = 'dashdot')\n",
    "\n",
    "plt.xlabel('SouthWest In Sample Quarters')\n",
    "plt.ylabel('OPOR')\n",
    "plt.title('SouthWest Airline')\n",
    "plt.xticks([])\n",
    "\n",
    "plt.legend()\n",
    "plt.legend(loc=4, prop={'size': 6})\n",
    "\n",
    "## United\n",
    "plt.subplot(2,2,4)\n",
    "plt.plot(united_in['OPOR'], label= \"Actual OPOR\", color = 'slategrey', linewidth= 6,alpha = 0.7)\n",
    "plt.plot(united_in['OPOR_pred_train_dnn'], label= \"DNN Predicted OPOR\", color = 'blue', linestyle ='dotted')\n",
    "plt.plot(united_in['OPOR_pred_train_xgb'], label= \"XGB Predicted OPOR\", color = 'green')\n",
    "plt.plot(united_in['pout_fe_in'], label= \"Fixed Effects Predicted OPOR\", color = 'darkorange', linestyle ='dashed')\n",
    "plt.plot(united_in['pout_xtmixed_in'], label= \"Mixed Effects Predicted OPOR\", color = 'purple', linestyle = 'dashdot')\n",
    "\n",
    "plt.xlabel('United In Sample Quarters')\n",
    "plt.ylabel('OPOR')\n",
    "plt.title('United Airline')\n",
    "plt.xticks([])\n",
    "\n",
    "plt.legend()\n",
    "plt.legend(loc=4, prop={'size': 6})\n",
    "\n",
    "plt.savefig('Big4InSample.pdf')"
   ]
  },
  {
   "cell_type": "markdown",
   "id": "00b1baf5-ead3-41cb-a0e1-11199c85e6a0",
   "metadata": {
    "jp-MarkdownHeadingCollapsed": true
   },
   "source": [
    "## OUT OF SAMPLE Last 8 Quarters"
   ]
  },
  {
   "cell_type": "markdown",
   "id": "5c4b5c4b-95be-4eaf-a8e7-7bf4240e3d32",
   "metadata": {},
   "source": [
    "#### Read in last 8 quarter file created by Stata"
   ]
  },
  {
   "cell_type": "code",
   "execution_count": null,
   "id": "adc53fc5-be85-42b4-8b8d-3e68f1b88fd0",
   "metadata": {},
   "outputs": [],
   "source": [
    "stata_8 = pd.read_csv('/home/Data_Ubuntu/StataOut_8.csv')"
   ]
  },
  {
   "cell_type": "code",
   "execution_count": null,
   "id": "aa00d98d-ed8d-4e30-a28c-a4da3460a4f5",
   "metadata": {
    "scrolled": true
   },
   "outputs": [],
   "source": [
    "df_xgb_test.head()"
   ]
  },
  {
   "cell_type": "code",
   "execution_count": null,
   "id": "13548e83-a98f-453c-89d1-8e7131682592",
   "metadata": {},
   "outputs": [],
   "source": [
    "df_8_all = pd.merge(stata_8, df_xgb_test,  how='left', left_on=['carriercode','occasion'], right_on = ['carriercode','occasion'])"
   ]
  },
  {
   "cell_type": "code",
   "execution_count": null,
   "id": "d7bab585-cd2e-4c53-b806-4bb53f9bd2c2",
   "metadata": {},
   "outputs": [],
   "source": [
    "df_8_all['avg_mix_xgb'] = (df_8_all['pout_xtmixed_8'] + df_8_all['OPOR_pred_test_xgb'])/2"
   ]
  },
  {
   "cell_type": "code",
   "execution_count": null,
   "id": "a3cd3da3-733a-40e9-9290-f59d1121621b",
   "metadata": {},
   "outputs": [],
   "source": [
    "df_8_clean = df_8_all[df_8_all['OPOR'].notna()].reset_index()"
   ]
  },
  {
   "cell_type": "markdown",
   "id": "539bdc4b-85d9-4ccd-a2f5-4f3d9455f652",
   "metadata": {},
   "source": [
    "#### ALL CARRIERS OUT OF SAMPLE"
   ]
  },
  {
   "cell_type": "code",
   "execution_count": null,
   "id": "285988a6-ffdc-4643-ba2d-822f4a737108",
   "metadata": {},
   "outputs": [],
   "source": [
    "plt.plot(df_8_clean['OPOR'], label= \"Actual OPOR\", color = 'slategrey', linewidth= 4,alpha = 0.7)\n",
    "plt.plot(df_8_clean['OPOR_pred_test_dnn'], label= \"DNN Predicted OPOR\", color = 'blue', linestyle ='dotted')\n",
    "plt.plot(df_8_clean['OPOR_pred_test_xgb'], label= \"XGB Predicted OPOR\", color = 'green')\n",
    "plt.plot(df_8_clean['pout_fe_8'], label= \"Fixed Effects Predicted OPOR\", color = 'darkorange', linestyle ='dashed')\n",
    "plt.plot(df_8_clean['pout_xtmixed_8'], label= \"Mixed Effects Predicted OPOR\", color = 'Purple', linestyle ='dashdot')\n",
    "\n",
    "plt.xlabel('Last 8 Quarters as Out of Sample')\n",
    "plt.ylabel('OPOR')\n",
    "plt.xticks([])\n",
    "\n",
    "plt.title('All Carriers Out of Sample Prediction')\n",
    "plt.legend()\n",
    "plt.legend(loc=4, prop={'size': 8})\n",
    "\n",
    "plt.savefig('AllCarrierLast8.pdf')"
   ]
  },
  {
   "cell_type": "markdown",
   "id": "2e01d23d-a8d3-4cc4-9145-3d1ec5217531",
   "metadata": {},
   "source": [
    "#### BIG FOUR OUT OF SAMPLE"
   ]
  },
  {
   "cell_type": "code",
   "execution_count": null,
   "id": "5f43f40e-e783-4db4-993d-cb1e58620032",
   "metadata": {
    "scrolled": true
   },
   "outputs": [],
   "source": [
    "american8 = df_8_all[df_8_all['carriercode'] == 6]\n",
    "\n",
    "delta8 = df_8_all[df_8_all['carriercode'] == 11]\n",
    "\n",
    "sw8 = df_8_all[df_8_all['carriercode'] == 24]\n",
    "\n",
    "united8 = df_8_all[df_8_all['carriercode'] == 26]\n",
    "\n",
    "plt.figure(figsize = (12,8))\n",
    "\n",
    "## American \n",
    "plt.subplot(2,2,1)\n",
    "plt.plot(american8['OPOR'], label= \"Actual OPOR\", color = 'slategrey', linewidth= 6,alpha = 0.7)\n",
    "plt.plot(american8['OPOR_pred_test_dnn'], label= \"DNN Predicted OPOR\", color = 'blue', linestyle ='dotted')\n",
    "plt.plot(american8['OPOR_pred_test_xgb'], label= \"XGB Predicted OPOR\", color = 'green')\n",
    "plt.plot(american8['pout_fe_8'], label= \"Fixed Effects Predicted OPOR\", color = 'darkorange', linestyle ='dashed')\n",
    "plt.plot(american8['pout_xtmixed_8'], label= \"Mixed Effects Predicted OPOR\", color = 'purple', linestyle = 'dashdot')\n",
    "\n",
    "plt.xlabel('Last 8 Quarters as Out of Sample')\n",
    "plt.ylabel('OPOR')\n",
    "plt.title('American Airline')\n",
    "plt.xticks([])\n",
    "\n",
    "plt.legend()\n",
    "plt.legend(loc=4, prop={'size': 6})\n",
    "\n",
    "\n",
    "## Delta\n",
    "plt.subplot(2,2,2)\n",
    "plt.plot(delta8['OPOR'], label= \"Actual OPOR\", color = 'slategrey', linewidth= 6,alpha = 0.7)\n",
    "plt.plot(delta8['OPOR_pred_test_dnn'], label= \"DNN Predicted OPOR\", color = 'blue', linestyle ='dotted')\n",
    "plt.plot(delta8['OPOR_pred_test_xgb'], label= \"XGB Predicted OPOR\", color = 'green')\n",
    "plt.plot(delta8['pout_fe_8'], label= \"Fixed Effects Predicted OPOR\", color = 'darkorange', linestyle ='dashed')\n",
    "plt.plot(delta8['pout_xtmixed_8'], label= \"Mixed Effects Predicted OPOR\", color = 'purple', linestyle = 'dashdot')\n",
    "\n",
    "plt.xlabel('Last 8 Quarters as Out of Sample')\n",
    "plt.ylabel('OPOR')\n",
    "plt.title('Delta Airline')\n",
    "plt.xticks([])\n",
    "\n",
    "plt.legend()\n",
    "plt.legend(loc=4, prop={'size': 6})\n",
    "\n",
    "## Southwest\n",
    "plt.subplot(2,2,3)\n",
    "plt.plot(sw8['OPOR'], label= \"Actual OPOR\", color = 'slategrey', linewidth= 6,alpha = 0.7)\n",
    "plt.plot(sw8['OPOR_pred_test_dnn'], label= \"DNN Predicted OPOR\", color = 'blue', linestyle ='dotted')\n",
    "plt.plot(sw8['OPOR_pred_test_xgb'], label= \"XGB Predicted OPOR\", color = 'green')\n",
    "plt.plot(sw8['pout_fe_8'], label= \"Fixed Effects Predicted OPOR\", color = 'darkorange', linestyle ='dashed')\n",
    "plt.plot(sw8['pout_xtmixed_8'], label= \"Mixed Effects Predicted OPOR\", color = 'purple', linestyle = 'dashdot')\n",
    "\n",
    "plt.xlabel('Last 8 Quarters as Out of Sample')\n",
    "plt.ylabel('OPOR')\n",
    "plt.title('SouthWest Airline')\n",
    "plt.xticks([])\n",
    "\n",
    "plt.legend()\n",
    "plt.legend(loc=4, prop={'size': 6})\n",
    "\n",
    "## United\n",
    "plt.subplot(2,2,4)\n",
    "plt.plot(united8['OPOR'], label= \"Actual OPOR\", color = 'slategrey', linewidth= 6,alpha = 0.7)\n",
    "plt.plot(united8['OPOR_pred_test_dnn'], label= \"DNN Predicted OPOR\", color = 'blue', linestyle ='dotted')\n",
    "plt.plot(united8['OPOR_pred_test_xgb'], label= \"XGB Predicted OPOR\", color = 'green')\n",
    "plt.plot(united8['pout_fe_8'], label= \"Fixed Effects Predicted OPOR\", color = 'darkorange', linestyle ='dashed')\n",
    "plt.plot(united8['pout_xtmixed_8'], label= \"Mixed Effects Predicted OPOR\", color = 'purple', linestyle = 'dashdot')\n",
    "\n",
    "plt.xlabel('Last 8 Quarters as Out of Sample')\n",
    "plt.ylabel('OPOR')\n",
    "plt.title('United Airline')\n",
    "plt.xticks([])\n",
    "\n",
    "plt.legend()\n",
    "plt.legend(loc=4, prop={'size': 6})\n",
    "\n",
    "plt.savefig('Big4Last8Q.pdf')"
   ]
  },
  {
   "cell_type": "code",
   "execution_count": null,
   "id": "187b5984-853a-4099-a564-cd7bd15651a2",
   "metadata": {},
   "outputs": [],
   "source": [
    "df_8_all['avg_dnn_xgb'] = (df_8_all['OPOR_pred_test_dnn'] + df_8_all['OPOR_pred_test_xgb'])/2"
   ]
  },
  {
   "cell_type": "code",
   "execution_count": null,
   "id": "07f32247-52a8-4f4d-a9fe-d81e8f1f4d2c",
   "metadata": {},
   "outputs": [],
   "source": [
    "american8 = df_8_all[df_8_all['carriercode'] == 6]\n",
    "\n",
    "delta8 = df_8_all[df_8_all['carriercode'] == 11]\n",
    "\n",
    "sw8 = df_8_all[df_8_all['carriercode'] == 24]\n",
    "\n",
    "united8 = df_8_all[df_8_all['carriercode'] == 26]\n",
    "\n",
    "plt.figure(figsize = (12,8))\n",
    "\n",
    "## American \n",
    "plt.subplot(2,2,1)\n",
    "plt.plot(american8['OPOR'], label= \"Actual OPOR\", color = 'slategrey', linewidth= 6,alpha = 0.7)\n",
    "plt.plot(american8['OPOR_pred_test_dnn'], label= \"DNN Predicted OPOR\", color = 'blue', linestyle ='dotted')\n",
    "plt.plot(american8['OPOR_pred_test_xgb'], label= \"XGB Predicted OPOR\", color = 'green')\n",
    "plt.plot(american8['pout_fe_8'], label= \"Fixed Effects Predicted OPOR\", color = 'darkorange', linestyle ='dashed')\n",
    "plt.plot(american8['pout_xtmixed_8'], label= \"Mixed Effects Predicted OPOR\", color = 'purple', linestyle = 'dashdot')\n",
    "plt.plot(american8['avg_dnn_xgb'], label= \"Average of DNN + XGB\", color = 'black', linestyle = 'solid', marker = 'x')\n",
    "\n",
    "\n",
    "plt.xlabel('Last 8 Quarters as Out of Sample')\n",
    "plt.ylabel('OPOR')\n",
    "plt.title('American Airline')\n",
    "plt.xticks([])\n",
    "\n",
    "plt.legend()\n",
    "plt.legend(loc=4, prop={'size': 6})\n",
    "\n",
    "\n",
    "## Delta\n",
    "plt.subplot(2,2,2)\n",
    "plt.plot(delta8['OPOR'], label= \"Actual OPOR\", color = 'slategrey', linewidth= 6,alpha = 0.7)\n",
    "plt.plot(delta8['OPOR_pred_test_dnn'], label= \"DNN Predicted OPOR\", color = 'blue', linestyle ='dotted')\n",
    "plt.plot(delta8['OPOR_pred_test_xgb'], label= \"XGB Predicted OPOR\", color = 'green')\n",
    "plt.plot(delta8['pout_fe_8'], label= \"Fixed Effects Predicted OPOR\", color = 'darkorange', linestyle ='dashed')\n",
    "plt.plot(delta8['pout_xtmixed_8'], label= \"Mixed Effects Predicted OPOR\", color = 'purple', linestyle = 'dashdot')\n",
    "plt.plot(delta8['avg_mix_xgb'], label= \"Average of Mixed Effect + XGB\", color = 'black', linestyle = 'solid',marker = 'x')\n",
    "\n",
    "\n",
    "plt.xlabel('Last 8 Quarters as Out of Sample')\n",
    "plt.ylabel('OPOR')\n",
    "plt.title('Delta Airline')\n",
    "plt.xticks([])\n",
    "\n",
    "plt.legend()\n",
    "plt.legend(loc=4, prop={'size': 6})\n",
    "\n",
    "## Southwest\n",
    "plt.subplot(2,2,3)\n",
    "plt.plot(sw8['OPOR'], label= \"Actual OPOR\", color = 'slategrey', linewidth= 6,alpha = 0.7)\n",
    "plt.plot(sw8['OPOR_pred_test_dnn'], label= \"DNN Predicted OPOR\", color = 'blue', linestyle ='dotted')\n",
    "plt.plot(sw8['OPOR_pred_test_xgb'], label= \"XGB Predicted OPOR\", color = 'green')\n",
    "plt.plot(sw8['pout_fe_8'], label= \"Fixed Effects Predicted OPOR\", color = 'darkorange', linestyle ='dashed')\n",
    "plt.plot(sw8['pout_xtmixed_8'], label= \"Mixed Effects Predicted OPOR\", color = 'purple', linestyle = 'dashdot')\n",
    "\n",
    "\n",
    "plt.xlabel('Last 8 Quarters as Out of Sample')\n",
    "plt.ylabel('OPOR')\n",
    "plt.title('SouthWest Airline')\n",
    "plt.xticks([])\n",
    "\n",
    "plt.legend()\n",
    "plt.legend(loc=4, prop={'size': 6})\n",
    "\n",
    "## United\n",
    "plt.subplot(2,2,4)\n",
    "plt.plot(united8['OPOR'], label= \"Actual OPOR\", color = 'slategrey', linewidth= 6,alpha = 0.7)\n",
    "plt.plot(united8['OPOR_pred_test_dnn'], label= \"DNN Predicted OPOR\", color = 'blue', linestyle ='dotted')\n",
    "plt.plot(united8['OPOR_pred_test_xgb'], label= \"XGB Predicted OPOR\", color = 'green')\n",
    "plt.plot(united8['pout_fe_8'], label= \"Fixed Effects Predicted OPOR\", color = 'darkorange', linestyle ='dashed')\n",
    "plt.plot(united8['pout_xtmixed_8'], label= \"Mixed Effects Predicted OPOR\", color = 'purple', linestyle = 'dashdot')\n",
    "\n",
    "\n",
    "plt.xlabel('Last 8 Quarters as Out of Sample')\n",
    "plt.ylabel('OPOR')\n",
    "plt.title('United Airline')\n",
    "plt.xticks([])\n",
    "\n",
    "plt.legend()\n",
    "plt.legend(loc=4, prop={'size': 6})\n",
    "\n",
    "plt.savefig('Big4Last8Q_avg.pdf')"
   ]
  },
  {
   "cell_type": "code",
   "execution_count": null,
   "id": "f9f231e8-2869-4221-8a60-f0deb152f50d",
   "metadata": {},
   "outputs": [],
   "source": []
  }
 ],
 "metadata": {
  "kernelspec": {
   "display_name": "Python 3 (ipykernel)",
   "language": "python",
   "name": "python3"
  },
  "language_info": {
   "codemirror_mode": {
    "name": "ipython",
    "version": 3
   },
   "file_extension": ".py",
   "mimetype": "text/x-python",
   "name": "python",
   "nbconvert_exporter": "python",
   "pygments_lexer": "ipython3",
   "version": "3.9.18"
  }
 },
 "nbformat": 4,
 "nbformat_minor": 5
}
